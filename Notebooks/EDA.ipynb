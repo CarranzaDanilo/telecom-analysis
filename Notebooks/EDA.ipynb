{
 "cells": [
  {
   "cell_type": "code",
   "execution_count": 1,
   "metadata": {},
   "outputs": [],
   "source": [
    "import pandas as pd\n",
    "import seaborn as sns\n",
    "import matplotlib.pyplot as plt\n",
    "import numpy as np"
   ]
  },
  {
   "cell_type": "code",
   "execution_count": 2,
   "metadata": {},
   "outputs": [
    {
     "name": "stdout",
     "output_type": "stream",
     "text": [
      "Requirement already satisfied: folium in c:\\users\\usuario\\appdata\\local\\packages\\pythonsoftwarefoundation.python.3.10_qbz5n2kfra8p0\\localcache\\local-packages\\python310\\site-packages (0.17.0)\n",
      "Requirement already satisfied: branca>=0.6.0 in c:\\users\\usuario\\appdata\\local\\packages\\pythonsoftwarefoundation.python.3.10_qbz5n2kfra8p0\\localcache\\local-packages\\python310\\site-packages (from folium) (0.7.2)\n",
      "Requirement already satisfied: jinja2>=2.9 in c:\\users\\usuario\\appdata\\local\\packages\\pythonsoftwarefoundation.python.3.10_qbz5n2kfra8p0\\localcache\\local-packages\\python310\\site-packages (from folium) (3.1.4)\n",
      "Requirement already satisfied: numpy in c:\\users\\usuario\\appdata\\local\\packages\\pythonsoftwarefoundation.python.3.10_qbz5n2kfra8p0\\localcache\\local-packages\\python310\\site-packages (from folium) (1.26.4)\n",
      "Requirement already satisfied: requests in c:\\users\\usuario\\appdata\\local\\packages\\pythonsoftwarefoundation.python.3.10_qbz5n2kfra8p0\\localcache\\local-packages\\python310\\site-packages (from folium) (2.32.3)\n",
      "Requirement already satisfied: xyzservices in c:\\users\\usuario\\appdata\\local\\packages\\pythonsoftwarefoundation.python.3.10_qbz5n2kfra8p0\\localcache\\local-packages\\python310\\site-packages (from folium) (2024.6.0)\n",
      "Requirement already satisfied: MarkupSafe>=2.0 in c:\\users\\usuario\\appdata\\local\\packages\\pythonsoftwarefoundation.python.3.10_qbz5n2kfra8p0\\localcache\\local-packages\\python310\\site-packages (from jinja2>=2.9->folium) (2.1.5)\n",
      "Requirement already satisfied: charset-normalizer<4,>=2 in c:\\users\\usuario\\appdata\\local\\packages\\pythonsoftwarefoundation.python.3.10_qbz5n2kfra8p0\\localcache\\local-packages\\python310\\site-packages (from requests->folium) (3.3.2)\n",
      "Requirement already satisfied: idna<4,>=2.5 in c:\\users\\usuario\\appdata\\local\\packages\\pythonsoftwarefoundation.python.3.10_qbz5n2kfra8p0\\localcache\\local-packages\\python310\\site-packages (from requests->folium) (3.7)\n",
      "Requirement already satisfied: urllib3<3,>=1.21.1 in c:\\users\\usuario\\appdata\\local\\packages\\pythonsoftwarefoundation.python.3.10_qbz5n2kfra8p0\\localcache\\local-packages\\python310\\site-packages (from requests->folium) (2.2.1)\n",
      "Requirement already satisfied: certifi>=2017.4.17 in c:\\users\\usuario\\appdata\\local\\packages\\pythonsoftwarefoundation.python.3.10_qbz5n2kfra8p0\\localcache\\local-packages\\python310\\site-packages (from requests->folium) (2024.6.2)\n",
      "Note: you may need to restart the kernel to use updated packages.\n"
     ]
    }
   ],
   "source": [
    "pip install folium "
   ]
  },
  {
   "cell_type": "code",
   "execution_count": 3,
   "metadata": {},
   "outputs": [
    {
     "name": "stdout",
     "output_type": "stream",
     "text": [
      "Requirement already satisfied: geopandas in c:\\users\\usuario\\appdata\\local\\packages\\pythonsoftwarefoundation.python.3.10_qbz5n2kfra8p0\\localcache\\local-packages\\python310\\site-packages (1.0.1)\n",
      "Requirement already satisfied: numpy>=1.22 in c:\\users\\usuario\\appdata\\local\\packages\\pythonsoftwarefoundation.python.3.10_qbz5n2kfra8p0\\localcache\\local-packages\\python310\\site-packages (from geopandas) (1.26.4)\n",
      "Requirement already satisfied: pyogrio>=0.7.2 in c:\\users\\usuario\\appdata\\local\\packages\\pythonsoftwarefoundation.python.3.10_qbz5n2kfra8p0\\localcache\\local-packages\\python310\\site-packages (from geopandas) (0.9.0)\n",
      "Requirement already satisfied: packaging in c:\\users\\usuario\\appdata\\local\\packages\\pythonsoftwarefoundation.python.3.10_qbz5n2kfra8p0\\localcache\\local-packages\\python310\\site-packages (from geopandas) (23.1)\n",
      "Requirement already satisfied: pandas>=1.4.0 in c:\\users\\usuario\\appdata\\local\\packages\\pythonsoftwarefoundation.python.3.10_qbz5n2kfra8p0\\localcache\\local-packages\\python310\\site-packages (from geopandas) (2.2.2)\n",
      "Requirement already satisfied: pyproj>=3.3.0 in c:\\users\\usuario\\appdata\\local\\packages\\pythonsoftwarefoundation.python.3.10_qbz5n2kfra8p0\\localcache\\local-packages\\python310\\site-packages (from geopandas) (3.6.1)\n",
      "Requirement already satisfied: shapely>=2.0.0 in c:\\users\\usuario\\appdata\\local\\packages\\pythonsoftwarefoundation.python.3.10_qbz5n2kfra8p0\\localcache\\local-packages\\python310\\site-packages (from geopandas) (2.0.6)\n",
      "Requirement already satisfied: python-dateutil>=2.8.2 in c:\\users\\usuario\\appdata\\local\\packages\\pythonsoftwarefoundation.python.3.10_qbz5n2kfra8p0\\localcache\\local-packages\\python310\\site-packages (from pandas>=1.4.0->geopandas) (2.8.2)\n",
      "Requirement already satisfied: pytz>=2020.1 in c:\\users\\usuario\\appdata\\local\\packages\\pythonsoftwarefoundation.python.3.10_qbz5n2kfra8p0\\localcache\\local-packages\\python310\\site-packages (from pandas>=1.4.0->geopandas) (2024.1)\n",
      "Requirement already satisfied: tzdata>=2022.7 in c:\\users\\usuario\\appdata\\local\\packages\\pythonsoftwarefoundation.python.3.10_qbz5n2kfra8p0\\localcache\\local-packages\\python310\\site-packages (from pandas>=1.4.0->geopandas) (2024.1)\n",
      "Requirement already satisfied: certifi in c:\\users\\usuario\\appdata\\local\\packages\\pythonsoftwarefoundation.python.3.10_qbz5n2kfra8p0\\localcache\\local-packages\\python310\\site-packages (from pyogrio>=0.7.2->geopandas) (2024.6.2)\n",
      "Requirement already satisfied: six>=1.5 in c:\\users\\usuario\\appdata\\local\\packages\\pythonsoftwarefoundation.python.3.10_qbz5n2kfra8p0\\localcache\\local-packages\\python310\\site-packages (from python-dateutil>=2.8.2->pandas>=1.4.0->geopandas) (1.16.0)\n",
      "Note: you may need to restart the kernel to use updated packages.\n"
     ]
    }
   ],
   "source": [
    "pip install geopandas\n"
   ]
  },
  {
   "cell_type": "code",
   "execution_count": 4,
   "metadata": {},
   "outputs": [],
   "source": [
    "import geopandas as gpd"
   ]
  },
  {
   "cell_type": "code",
   "execution_count": 5,
   "metadata": {},
   "outputs": [
    {
     "name": "stdout",
     "output_type": "stream",
     "text": [
      "Requirement already satisfied: pandas in c:\\users\\usuario\\appdata\\local\\packages\\pythonsoftwarefoundation.python.3.10_qbz5n2kfra8p0\\localcache\\local-packages\\python310\\site-packages (2.2.2)\n",
      "Requirement already satisfied: openpyxl in c:\\users\\usuario\\appdata\\local\\packages\\pythonsoftwarefoundation.python.3.10_qbz5n2kfra8p0\\localcache\\local-packages\\python310\\site-packages (3.1.4)\n",
      "Requirement already satisfied: numpy>=1.22.4 in c:\\users\\usuario\\appdata\\local\\packages\\pythonsoftwarefoundation.python.3.10_qbz5n2kfra8p0\\localcache\\local-packages\\python310\\site-packages (from pandas) (1.26.4)\n",
      "Requirement already satisfied: python-dateutil>=2.8.2 in c:\\users\\usuario\\appdata\\local\\packages\\pythonsoftwarefoundation.python.3.10_qbz5n2kfra8p0\\localcache\\local-packages\\python310\\site-packages (from pandas) (2.8.2)\n",
      "Requirement already satisfied: pytz>=2020.1 in c:\\users\\usuario\\appdata\\local\\packages\\pythonsoftwarefoundation.python.3.10_qbz5n2kfra8p0\\localcache\\local-packages\\python310\\site-packages (from pandas) (2024.1)\n",
      "Requirement already satisfied: tzdata>=2022.7 in c:\\users\\usuario\\appdata\\local\\packages\\pythonsoftwarefoundation.python.3.10_qbz5n2kfra8p0\\localcache\\local-packages\\python310\\site-packages (from pandas) (2024.1)\n",
      "Requirement already satisfied: et-xmlfile in c:\\users\\usuario\\appdata\\local\\packages\\pythonsoftwarefoundation.python.3.10_qbz5n2kfra8p0\\localcache\\local-packages\\python310\\site-packages (from openpyxl) (1.1.0)\n",
      "Requirement already satisfied: six>=1.5 in c:\\users\\usuario\\appdata\\local\\packages\\pythonsoftwarefoundation.python.3.10_qbz5n2kfra8p0\\localcache\\local-packages\\python310\\site-packages (from python-dateutil>=2.8.2->pandas) (1.16.0)\n",
      "Note: you may need to restart the kernel to use updated packages.\n"
     ]
    }
   ],
   "source": [
    "pip install pandas openpyxl"
   ]
  },
  {
   "cell_type": "code",
   "execution_count": 6,
   "metadata": {},
   "outputs": [
    {
     "name": "stdout",
     "output_type": "stream",
     "text": [
      "      Provincia     Partido          Localidad Link Indec  Otros  0,256 Mbps  \\\n",
      "0  BUENOS AIRES  25 de Mayo         25 de Mayo    6854100    NaN         NaN   \n",
      "1  BUENOS AIRES  25 de Mayo    Agustín Mosconi    6854010    NaN         NaN   \n",
      "2  BUENOS AIRES  25 de Mayo          Del Valle    6854020    NaN         NaN   \n",
      "3  BUENOS AIRES  25 de Mayo          Ernestina    6854030    NaN         NaN   \n",
      "4  BUENOS AIRES  25 de Mayo  Gobernador Ugarte    6854040    NaN         NaN   \n",
      "\n",
      "   0,5 Mbps  0,512 Mbps  0,75 Mbps  1 Mbps  ...  680 Mbps  700 Mbps  800 Mbps  \\\n",
      "0       2.0         NaN       19.0     NaN  ...       NaN       NaN       NaN   \n",
      "1       NaN         NaN        NaN     NaN  ...       NaN       NaN       NaN   \n",
      "2       1.0         NaN        NaN     NaN  ...       NaN       NaN       NaN   \n",
      "3       NaN         NaN        NaN     NaN  ...       NaN       NaN       NaN   \n",
      "4       NaN         NaN        NaN     NaN  ...       NaN       NaN       NaN   \n",
      "\n",
      "   850 Mbps  900 Mbps  999 Mbps  1000 Mbps  1024 Mbps  4000 Mbps  10000 Mbps  \n",
      "0       NaN       NaN       NaN        NaN        NaN        NaN         NaN  \n",
      "1       NaN       NaN       NaN        NaN        NaN        NaN         NaN  \n",
      "2       NaN       NaN       NaN        NaN        NaN        NaN         NaN  \n",
      "3       NaN       NaN       NaN        NaN        NaN        NaN         NaN  \n",
      "4       NaN       NaN       NaN        NaN        NaN        NaN         NaN  \n",
      "\n",
      "[5 rows x 125 columns]\n"
     ]
    }
   ],
   "source": [
    "# Ruta del archivo usando barras '/'\n",
    "file_path = 'C:/Users/Usuario/Desktop/Proyecto_2/Data_Set/Internet.xlsx'\n",
    "\n",
    "# Leer el archivo Excel\n",
    "df = pd.read_excel(file_path)\n",
    "\n",
    "# Mostrar las primeras filas del DataFrame\n",
    "print(df.head())"
   ]
  },
  {
   "cell_type": "code",
   "execution_count": 7,
   "metadata": {},
   "outputs": [
    {
     "name": "stdout",
     "output_type": "stream",
     "text": [
      "    Año  Trimestre        Provincia  Accesos por cada 100 hab\n",
      "0  2024          1     Buenos Aires                     27.80\n",
      "1  2024          1  Capital Federal                     48.78\n",
      "2  2024          1        Catamarca                     17.50\n",
      "3  2024          1            Chaco                     12.48\n",
      "4  2024          1           Chubut                     26.02\n"
     ]
    }
   ],
   "source": [
    "# Leer la hoja 'Penetración-poblacion' del archivo Excel\n",
    "penetracion_poblacion = pd.read_excel(file_path, sheet_name='Penetración-poblacion')\n",
    "\n",
    "# Mostrar las primeras filas del DataFrame para verificar\n",
    "print(penetracion_poblacion.head())"
   ]
  },
  {
   "cell_type": "code",
   "execution_count": 8,
   "metadata": {},
   "outputs": [
    {
     "name": "stdout",
     "output_type": "stream",
     "text": [
      "Valores faltantes por columna:\n",
      "Año                         0\n",
      "Trimestre                   0\n",
      "Provincia                   0\n",
      "Accesos por cada 100 hab    0\n",
      "dtype: int64\n"
     ]
    }
   ],
   "source": [
    "# Verificar valores faltantes\n",
    "print(\"Valores faltantes por columna:\")\n",
    "print(penetracion_poblacion.isnull().sum())"
   ]
  },
  {
   "cell_type": "code",
   "execution_count": 9,
   "metadata": {},
   "outputs": [
    {
     "name": "stdout",
     "output_type": "stream",
     "text": [
      "\n",
      "Cantidad de registros duplicados:\n",
      "0\n"
     ]
    }
   ],
   "source": [
    "# Verificar registros duplicados\n",
    "print(\"\\nCantidad de registros duplicados:\")\n",
    "print(penetracion_poblacion.duplicated().sum())\n"
   ]
  },
  {
   "cell_type": "code",
   "execution_count": 10,
   "metadata": {},
   "outputs": [
    {
     "name": "stdout",
     "output_type": "stream",
     "text": [
      "\n",
      "Descripción estadística del DataFrame:\n",
      "               Año   Trimestre  Accesos por cada 100 hab\n",
      "count   984.000000  984.000000                984.000000\n",
      "mean   2018.634146    2.463415                 15.537902\n",
      "std       2.962686    1.128870                  9.205334\n",
      "min    2014.000000    1.000000                  2.684669\n",
      "25%    2016.000000    1.000000                  8.909018\n",
      "50%    2019.000000    2.000000                 13.571293\n",
      "75%    2021.000000    3.000000                 19.972549\n",
      "max    2024.000000    4.000000                 52.236739\n"
     ]
    }
   ],
   "source": [
    "# Descripción estadística del DataFrame para identificar posibles valores atípicos\n",
    "print(\"\\nDescripción estadística del DataFrame:\")\n",
    "print(penetracion_poblacion.describe())"
   ]
  },
  {
   "cell_type": "code",
   "execution_count": 11,
   "metadata": {},
   "outputs": [
    {
     "name": "stdout",
     "output_type": "stream",
     "text": [
      "Año                           int64\n",
      "Trimestre                     int64\n",
      "Provincia                    object\n",
      "Accesos por cada 100 hab    float64\n",
      "dtype: object\n"
     ]
    }
   ],
   "source": [
    "# Mostrar los tipos de datos de las columnas\n",
    "print(penetracion_poblacion.dtypes)"
   ]
  },
  {
   "cell_type": "code",
   "execution_count": 12,
   "metadata": {},
   "outputs": [
    {
     "name": "stdout",
     "output_type": "stream",
     "text": [
      "No se encontraron valores mayores a 100.\n"
     ]
    }
   ],
   "source": [
    "# Limitar los valores de la columna 'Accesos por cada 100 hab' a dos decimales\n",
    "penetracion_poblacion['Accesos por cada 100 hab'] = penetracion_poblacion['Accesos por cada 100 hab'].round(2)\n",
    "\n",
    "# Verificar si algún valor supera los 100 en la columna 'Accesos por cada 100 hab'\n",
    "valores_mayores_a_100 = penetracion_poblacion[penetracion_poblacion['Accesos por cada 100 hab'] > 100]\n",
    "\n",
    "# Mostrar los valores que superan 100, si existen\n",
    "if not valores_mayores_a_100.empty:\n",
    "    print(\"Se encontraron los siguientes valores mayores a 100:\")\n",
    "    print(valores_mayores_a_100)\n",
    "else:\n",
    "    print(\"No se encontraron valores mayores a 100.\")"
   ]
  },
  {
   "cell_type": "code",
   "execution_count": 13,
   "metadata": {},
   "outputs": [],
   "source": [
    "penetracion_poblacion.to_excel('penetracion_poblacion.xlsx', index=False)"
   ]
  },
  {
   "cell_type": "code",
   "execution_count": 14,
   "metadata": {},
   "outputs": [
    {
     "name": "stdout",
     "output_type": "stream",
     "text": [
      "      Año  Trimestre     Provincia  Accesos por cada 100 hab Periodo\n",
      "960  2014          1  Buenos Aires                     16.69  2014Q1\n",
      "936  2014          2  Buenos Aires                     16.79  2014Q2\n",
      "912  2014          3  Buenos Aires                     17.26  2014Q3\n",
      "888  2014          4  Buenos Aires                     17.01  2014Q4\n",
      "864  2015          1  Buenos Aires                     17.24  2015Q1\n"
     ]
    }
   ],
   "source": [
    "# Crear una copia del DataFrame original para trabajar sobre ella\n",
    "df_penetracion_copia = penetracion_poblacion.copy()\n",
    "\n",
    "# Asegurarse de que la columna 'Trimestre' esté correctamente representada como string para concatenar con el año\n",
    "df_penetracion_copia['Periodo'] = df_penetracion_copia['Año'].astype(str) + 'Q' + df_penetracion_copia['Trimestre'].astype(str)\n",
    "\n",
    "# Ordenar los datos por Periodo para asegurar que el gráfico sea secuencial\n",
    "df_penetracion_copia = df_penetracion_copia.sort_values(by=['Provincia', 'Periodo'])\n",
    "\n",
    "# Verificar los primeros registros para asegurarse de que todo está correcto\n",
    "print(df_penetracion_copia.head())"
   ]
  },
  {
   "cell_type": "code",
   "execution_count": 15,
   "metadata": {},
   "outputs": [
    {
     "name": "stdout",
     "output_type": "stream",
     "text": [
      "      Año  Trimestre     Provincia  Accesos por cada 100 hab Periodo\n",
      "960  2014          1  Buenos Aires                     16.69  2014Q1\n",
      "936  2014          2  Buenos Aires                     16.79  2014Q2\n",
      "912  2014          3  Buenos Aires                     17.26  2014Q3\n",
      "888  2014          4  Buenos Aires                     17.01  2014Q4\n",
      "864  2015          1  Buenos Aires                     17.24  2015Q1\n"
     ]
    }
   ],
   "source": [
    "# Redondear la columna 'Accesos por cada 100 hab' a 2 decimales\n",
    "df_penetracion_copia['Accesos por cada 100 hab'] = df_penetracion_copia['Accesos por cada 100 hab'].round(2)\n",
    "\n",
    "# Mostrar las primeras filas para verificar\n",
    "print(df_penetracion_copia.head())"
   ]
  },
  {
   "cell_type": "code",
   "execution_count": 16,
   "metadata": {},
   "outputs": [
    {
     "name": "stdout",
     "output_type": "stream",
     "text": [
      "    Año  Trimestre        Provincia  Accesos por cada 100 hogares\n",
      "0  2024          1     Buenos Aires                         81.10\n",
      "1  2024          1  Capital Federal                        119.53\n",
      "2  2024          1        Catamarca                         68.82\n",
      "3  2024          1            Chaco                         46.70\n",
      "4  2024          1           Chubut                         84.89\n"
     ]
    }
   ],
   "source": [
    "# Leer la hoja 'Penetración-poblacion' del archivo Excel\n",
    "penetracion_hogares = pd.read_excel(file_path, sheet_name='Penetracion-hogares')\n",
    "\n",
    "\n",
    "# Mostrar las primeras filas del DataFrame para verificar\n",
    "print(penetracion_hogares.head())"
   ]
  },
  {
   "cell_type": "code",
   "execution_count": 17,
   "metadata": {},
   "outputs": [
    {
     "name": "stdout",
     "output_type": "stream",
     "text": [
      "\n",
      "Cantidad de registros duplicados:\n",
      "0\n",
      "Valores faltantes por columna:\n",
      "Año                             0\n",
      "Trimestre                       0\n",
      "Provincia                       0\n",
      "Accesos por cada 100 hogares    0\n",
      "dtype: int64\n"
     ]
    }
   ],
   "source": [
    "# Verificar registros duplicados\n",
    "print(\"\\nCantidad de registros duplicados:\")\n",
    "print(penetracion_hogares.duplicated().sum())\n",
    "\n",
    "# Verificar valores faltantes\n",
    "print(\"Valores faltantes por columna:\")\n",
    "print(penetracion_hogares.isnull().sum())"
   ]
  },
  {
   "cell_type": "code",
   "execution_count": 18,
   "metadata": {},
   "outputs": [
    {
     "name": "stdout",
     "output_type": "stream",
     "text": [
      "Año                               int64\n",
      "Trimestre                         int64\n",
      "Provincia                        object\n",
      "Accesos por cada 100 hogares    float64\n",
      "dtype: object\n"
     ]
    }
   ],
   "source": [
    "# Mostrar los tipos de datos de las columnas\n",
    "print(penetracion_hogares.dtypes)"
   ]
  },
  {
   "cell_type": "code",
   "execution_count": 19,
   "metadata": {},
   "outputs": [
    {
     "name": "stdout",
     "output_type": "stream",
     "text": [
      "      Año  Trimestre        Provincia  Accesos por cada 100 hogares\n",
      "1    2024          1  Capital Federal                    119.530000\n",
      "25   2023          4  Capital Federal                    117.020000\n",
      "49   2023          3  Capital Federal                    116.400000\n",
      "73   2023          2  Capital Federal                    115.480000\n",
      "97   2023          1  Capital Federal                    122.590000\n",
      "121  2022          4  Capital Federal                    122.730000\n",
      "145  2022          3  Capital Federal                    122.280000\n",
      "169  2022          2  Capital Federal                    121.310000\n",
      "193  2022          1  Capital Federal                    111.797863\n",
      "217  2021          4  Capital Federal                    111.270026\n",
      "241  2021          3  Capital Federal                    111.271055\n",
      "265  2021          2  Capital Federal                    110.144402\n",
      "289  2021          1  Capital Federal                    108.419939\n",
      "313  2020          4  Capital Federal                    108.311075\n",
      "337  2020          3  Capital Federal                    107.675901\n",
      "361  2020          2  Capital Federal                    106.414806\n",
      "385  2020          1  Capital Federal                    105.980174\n",
      "409  2019          4  Capital Federal                    106.245468\n",
      "433  2019          3  Capital Federal                    112.645388\n",
      "457  2019          2  Capital Federal                    110.545567\n",
      "481  2019          1  Capital Federal                    109.196165\n",
      "505  2018          4  Capital Federal                    108.273150\n",
      "529  2018          3  Capital Federal                    108.445914\n",
      "553  2018          2  Capital Federal                    106.534941\n",
      "577  2018          1  Capital Federal                    106.235672\n",
      "601  2017          4  Capital Federal                    122.897424\n",
      "625  2017          3  Capital Federal                    121.858326\n",
      "649  2017          2  Capital Federal                    124.061394\n",
      "673  2017          1  Capital Federal                    108.369208\n",
      "697  2016          4  Capital Federal                    120.631332\n",
      "721  2016          3  Capital Federal                    120.772878\n",
      "745  2016          2  Capital Federal                    120.039535\n",
      "769  2016          1  Capital Federal                    115.160059\n",
      "793  2015          4  Capital Federal                    118.130363\n",
      "817  2015          3  Capital Federal                    118.289211\n",
      "841  2015          2  Capital Federal                    116.066271\n",
      "865  2015          1  Capital Federal                    114.896997\n",
      "889  2014          4  Capital Federal                    114.896766\n",
      "913  2014          3  Capital Federal                    113.800512\n",
      "937  2014          2  Capital Federal                    113.143352\n",
      "961  2014          1  Capital Federal                    112.254123\n"
     ]
    }
   ],
   "source": [
    "# Filtrar los valores mayores a 100 en la columna 'Accesos por cada 100 hogares'\n",
    "valores_mayores_a_100 = penetracion_hogares[penetracion_hogares['Accesos por cada 100 hogares'] > 100]\n",
    "\n",
    "# Mostrar los valores filtrados\n",
    "print(valores_mayores_a_100)\n"
   ]
  },
  {
   "cell_type": "code",
   "execution_count": 20,
   "metadata": {},
   "outputs": [
    {
     "name": "stdout",
     "output_type": "stream",
     "text": [
      "      Año  Trimestre            Provincia  Accesos por cada 100 hogares\n",
      "0    2024          1         Buenos Aires                     81.100000\n",
      "2    2024          1            Catamarca                     68.820000\n",
      "3    2024          1                Chaco                     46.700000\n",
      "4    2024          1               Chubut                     84.890000\n",
      "5    2024          1              Córdoba                     90.700000\n",
      "..    ...        ...                  ...                           ...\n",
      "979  2014          1           Santa Cruz                     28.939093\n",
      "980  2014          1             Santa Fe                     47.847663\n",
      "981  2014          1  Santiago Del Estero                     16.309924\n",
      "982  2014          1     Tierra Del Fuego                     63.965926\n",
      "983  2014          1              Tucumán                     33.420975\n",
      "\n",
      "[943 rows x 4 columns]\n"
     ]
    }
   ],
   "source": [
    "# Filtrar todas las filas que NO correspondan a la provincia 'Capital Federal'\n",
    "penetracion_hogares = penetracion_hogares[penetracion_hogares['Provincia'] != 'Capital Federal']\n",
    "\n",
    "# Verificar que las filas se hayan eliminado\n",
    "print(penetracion_hogares)"
   ]
  },
  {
   "cell_type": "markdown",
   "metadata": {},
   "source": [
    "### Justificación para la Eliminación de los Datos de la Provincia de Capital Federal\n",
    "\n",
    "Durante el análisis de los datos del DataFrame `penetracion_hogares`, se identificó que los valores en la columna `Accesos por cada 100 hogares` para la provincia de **Capital Federal** presentaban inconsistencias. En particular, se observaron valores superiores a 100, lo cual no es factible, ya que no pueden existir más accesos a internet que la cantidad de hogares.\n",
    "\n",
    "Tras evaluar diferentes técnicas de corrección (como capado, imputación basada en la mediana, y modelos predictivos), se concluyó que no se dispone de una justificación empírica sólida para realizar ajustes en estos datos. Dado que la corrección de estos valores podría introducir sesgos o errores en el análisis, y para asegurar la integridad y la calidad de los resultados, se decidió **eliminar las filas correspondientes a la provincia de Capital Federal** del conjunto de datos.\n",
    "\n",
    "Este enfoque permitirá continuar con el análisis de la evolución de los accesos a internet en las demás provincias sin distorsionar las conclusiones debido a datos anómalos.\n"
   ]
  },
  {
   "cell_type": "code",
   "execution_count": 21,
   "metadata": {},
   "outputs": [
    {
     "name": "stdout",
     "output_type": "stream",
     "text": [
      "    Año  Trimestre     Provincia  Accesos por cada 100 hogares\n",
      "0  2024          1  Buenos Aires                         81.10\n",
      "2  2024          1     Catamarca                         68.82\n",
      "3  2024          1         Chaco                         46.70\n",
      "4  2024          1        Chubut                         84.89\n",
      "5  2024          1       Córdoba                         90.70\n"
     ]
    }
   ],
   "source": [
    "# Limitar los valores de la columna 'Accesos por cada 100 hogares' a dos decimales\n",
    "penetracion_hogares['Accesos por cada 100 hogares'] = penetracion_hogares['Accesos por cada 100 hogares'].round(2)\n",
    "\n",
    "# Verificar los cambios\n",
    "print(penetracion_hogares.head())\n"
   ]
  },
  {
   "cell_type": "code",
   "execution_count": 22,
   "metadata": {},
   "outputs": [],
   "source": [
    "penetracion_hogares.to_excel('penetracion_hogares.xlsx', index=False)"
   ]
  },
  {
   "cell_type": "code",
   "execution_count": null,
   "metadata": {},
   "outputs": [],
   "source": []
  },
  {
   "cell_type": "code",
   "execution_count": 23,
   "metadata": {},
   "outputs": [
    {
     "name": "stdout",
     "output_type": "stream",
     "text": [
      "    Año  Trimestre  Accesos por cada 100 hogares  Accesos por cada 100 hab\n",
      "0  2024          1                         78.89                     24.79\n",
      "1  2023          4                         78.56                     24.66\n",
      "2  2023          3                         77.84                     24.41\n",
      "3  2023          2                         77.02                     24.14\n",
      "4  2023          1                         77.20                     24.17\n"
     ]
    }
   ],
   "source": [
    "# Leer la hoja 'Penetracion-totales'\n",
    "datos_globales= pd.read_excel(file_path, sheet_name='Penetracion-totales')\n",
    "\n",
    "\n",
    "# Eliminar la columna 'Periodo'\n",
    "datos_globales = datos_globales.drop(columns=['Periodo'])\n",
    "\n",
    "# Mostrar las primeras filas del DataFrame para verificar\n",
    "print(datos_globales.head())"
   ]
  },
  {
   "cell_type": "code",
   "execution_count": 24,
   "metadata": {},
   "outputs": [
    {
     "name": "stdout",
     "output_type": "stream",
     "text": [
      "Valores faltantes por columna:\n",
      "Año                             0\n",
      "Trimestre                       0\n",
      "Accesos por cada 100 hogares    0\n",
      "Accesos por cada 100 hab        0\n",
      "dtype: int64\n"
     ]
    }
   ],
   "source": [
    "# Buscar valores faltantes\n",
    "valores_faltantes = datos_globales.isna().sum()\n",
    "\n",
    "# Mostrar los valores faltantes por columna\n",
    "print(\"Valores faltantes por columna:\")\n",
    "print(valores_faltantes)"
   ]
  },
  {
   "cell_type": "code",
   "execution_count": 25,
   "metadata": {},
   "outputs": [],
   "source": [
    "datos_globales.to_excel('datos_globales.xlsx', index=False)"
   ]
  },
  {
   "cell_type": "code",
   "execution_count": 26,
   "metadata": {},
   "outputs": [
    {
     "name": "stdout",
     "output_type": "stream",
     "text": [
      "\n",
      "Columna: Año\n",
      "Límite Inferior: 2008.5\n",
      "Límite Superior: 2028.5\n",
      "Valores Atípicos:\n",
      "Empty DataFrame\n",
      "Columns: [Año, Trimestre, Accesos por cada 100 hogares, Accesos por cada 100 hab]\n",
      "Index: []\n",
      "\n",
      "Columna: Trimestre\n",
      "Límite Inferior: -2.0\n",
      "Límite Superior: 6.0\n",
      "Valores Atípicos:\n",
      "Empty DataFrame\n",
      "Columns: [Año, Trimestre, Accesos por cada 100 hogares, Accesos por cada 100 hab]\n",
      "Index: []\n",
      "\n",
      "Columna: Accesos por cada 100 hogares\n",
      "Límite Inferior: 28.467185450548968\n",
      "Límite Superior: 95.84585419275889\n",
      "Valores Atípicos:\n",
      "Empty DataFrame\n",
      "Columns: [Año, Trimestre, Accesos por cada 100 hogares, Accesos por cada 100 hab]\n",
      "Index: []\n",
      "\n",
      "Columna: Accesos por cada 100 hab\n",
      "Límite Inferior: 8.287864060947046\n",
      "Límite Superior: 30.199361695762022\n",
      "Valores Atípicos:\n",
      "Empty DataFrame\n",
      "Columns: [Año, Trimestre, Accesos por cada 100 hogares, Accesos por cada 100 hab]\n",
      "Index: []\n"
     ]
    }
   ],
   "source": [
    "import numpy as np\n",
    "\n",
    "# Identificar valores atípicos usando el método IQR\n",
    "def identificar_outliers(df):\n",
    "    outliers = {}\n",
    "    for columna in df.select_dtypes(include=[np.number]).columns:  # Solo para columnas numéricas\n",
    "        Q1 = df[columna].quantile(0.25)\n",
    "        Q3 = df[columna].quantile(0.75)\n",
    "        IQR = Q3 - Q1\n",
    "        limites_inf = Q1 - 1.5 * IQR\n",
    "        limites_sup = Q3 + 1.5 * IQR\n",
    "        outliers[columna] = {\n",
    "            'limite_inferior': limites_inf,\n",
    "            'limite_superior': limites_sup,\n",
    "            'outliers': df[(df[columna] < limites_inf) | (df[columna] > limites_sup)]\n",
    "        }\n",
    "    return outliers\n",
    "\n",
    "outliers = identificar_outliers(datos_globales)\n",
    "\n",
    "# Mostrar los valores atípicos\n",
    "for columna, data in outliers.items():\n",
    "    print(f\"\\nColumna: {columna}\")\n",
    "    print(f\"Límite Inferior: {data['limite_inferior']}\")\n",
    "    print(f\"Límite Superior: {data['limite_superior']}\")\n",
    "    print(f\"Valores Atípicos:\\n{data['outliers']}\")\n"
   ]
  },
  {
   "cell_type": "code",
   "execution_count": 27,
   "metadata": {},
   "outputs": [
    {
     "name": "stdout",
     "output_type": "stream",
     "text": [
      "\n",
      "Registros Duplicados:\n",
      "Empty DataFrame\n",
      "Columns: [Año, Trimestre, Accesos por cada 100 hogares, Accesos por cada 100 hab]\n",
      "Index: []\n"
     ]
    }
   ],
   "source": [
    "# Encontrar registros duplicados\n",
    "duplicados = datos_globales[datos_globales.duplicated()]\n",
    "\n",
    "# Mostrar registros duplicados\n",
    "print(\"\\nRegistros Duplicados:\")\n",
    "print(duplicados)\n"
   ]
  },
  {
   "cell_type": "code",
   "execution_count": 28,
   "metadata": {},
   "outputs": [],
   "source": [
    "# Crear una copia del DataFrame original\n",
    "datos_globales_copia = datos_globales.copy()"
   ]
  },
  {
   "cell_type": "code",
   "execution_count": 29,
   "metadata": {},
   "outputs": [],
   "source": [
    "# Crear una columna 'Semestre' en la copia\n",
    "datos_globales_copia['Semestre'] = datos_globales_copia['Año'].astype(str) + ' - S' + datos_globales_copia['Trimestre'].astype(str)\n",
    "# Convertir 'Semestre' a tipo categoría para mantener el orden\n",
    "datos_globales_copia['Semestre'] = pd.Categorical(datos_globales_copia['Semestre'], categories=sorted(datos_globales_copia['Semestre'].unique()), ordered=True)\n"
   ]
  },
  {
   "cell_type": "code",
   "execution_count": 30,
   "metadata": {},
   "outputs": [
    {
     "data": {
      "image/png": "[encoded data removed]",
      "text/plain": [
       "<Figure size 1000x600 with 1 Axes>"
      ]
     },
     "metadata": {},
     "output_type": "display_data"
    }
   ],
   "source": [
    "# Configurar el tamaño del gráfico para que sea más pequeño\n",
    "plt.figure(figsize=(10, 6))\n",
    "\n",
    "# Crear el gráfico de líneas\n",
    "sns.lineplot(data=datos_globales_copia, x='Semestre', y='Accesos por cada 100 hab', marker='o')\n",
    "\n",
    "# Ajustar las etiquetas del eje x para mejorar la legibilidad\n",
    "plt.xticks(rotation=90, ha='right')\n",
    "\n",
    "# Agregar título y etiquetas\n",
    "plt.title('Evolución de Accesos por cada 100 Habitantes por Semestre', fontsize=14)\n",
    "plt.xlabel('Semestre (Año-Trimestre)', fontsize=10)\n",
    "plt.ylabel('Accesos por cada 100 Habitantes', fontsize=10)\n",
    "\n",
    "# Ajustar el diseño para que se ajuste bien\n",
    "plt.tight_layout()\n",
    "\n",
    "# Mostrar el gráfico\n",
    "plt.show()\n"
   ]
  },
  {
   "cell_type": "code",
   "execution_count": 31,
   "metadata": {},
   "outputs": [
    {
     "data": {
      "image/png": "[encoded data removed]",
      "text/plain": [
       "<Figure size 1000x600 with 1 Axes>"
      ]
     },
     "metadata": {},
     "output_type": "display_data"
    }
   ],
   "source": [
    "# Configurar el tamaño del gráfico para que sea más pequeño\n",
    "plt.figure(figsize=(10, 6))\n",
    "\n",
    "# Crear el gráfico de líneas para la columna 'Accesos por cada 100 hogares'\n",
    "sns.lineplot(data=datos_globales_copia, x='Semestre', y='Accesos por cada 100 hogares', marker='o')\n",
    "\n",
    "# Ajustar las etiquetas del eje x para mejorar la legibilidad\n",
    "plt.xticks(rotation=90, ha='right')\n",
    "\n",
    "# Agregar título y etiquetas\n",
    "plt.title('Evolución de Accesos por cada 100 Hogares por Semestre (Datos Globales)', fontsize=14)\n",
    "plt.xlabel('Semestre (Año-Trimestre)', fontsize=10)\n",
    "plt.ylabel('Accesos por cada 100 Hogares', fontsize=10)\n",
    "\n",
    "# Ajustar el diseño para que se ajuste bien\n",
    "plt.tight_layout()\n",
    "\n",
    "# Mostrar el gráfico\n",
    "plt.show()\n"
   ]
  },
  {
   "cell_type": "markdown",
   "metadata": {},
   "source": [
    "## Análisis de la Evolución de la Penetración de Internet a Nivel Nacional\n",
    "\n",
    "### Introducción\n",
    "\n",
    "En el contexto de la empresa prestadora de servicios de telecomunicaciones, el objetivo es realizar un análisis completo del comportamiento del sector a nivel nacional. A continuación, se presentan dos gráficos que muestran la evolución de los accesos a internet en el país, analizados globalmente.\n",
    "\n",
    "### Gráfica 1: Evolución de Accesos por cada 100 Habitantes\n",
    "\n",
    "En esta gráfica se muestra la evolución de la métrica \"Accesos por cada 100 Habitantes\" y \"Accesos por cada 100 Habitantes\" por semestre. Este análisis permite observar cómo ha cambiado el acceso a internet a lo largo del tiempo, proporcionándonos una visión clara de las tendencias nacionales en términos de conectividad. \n",
    "\n",
    "**Propósito:**\n",
    "- Identificar las tendencias generales en el acceso a internet en el país.\n",
    "- Evaluar si el crecimiento es consistente o si hay períodos con caídas notables.\n",
    "\n",
    "### Gráfica 2: Evolución de Accesos por cada 100 Hogares\n",
    "\n",
    "Esta gráfica representa la evolución de los \"Accesos por cada 100 Hogares\" a lo largo del tiempo, también por semestre. Al centrarnos en los hogares, obtenemos una perspectiva sobre la penetración de internet en los hogares en comparación con la población total.\n",
    "\n",
    "**Propósito:**\n",
    "- Evaluar el acceso a internet específicamente en el contexto de los hogares, lo cual puede ofrecer una visión diferente respecto a la conectividad.\n",
    "- Evaluar si el crecimiento es consistente o si hay períodos con caídas notables.\n",
    "\n",
    "### Conclusiones\n",
    "\n",
    "Tendencia Positiva continua: Las gráficas muestras una evolución positiva tanto en los \"Accesos por cada 100 Hogares\" como en \"Accesos por cada 100 Habitantes\", durante los últimos cuatro años, lo que indica un crecimiento sostenido en la penetración de internet a nivel nacional. Este aumento es una señal positiva de que más hogares están accediendo a servicios de internet, lo que sugiere una expansión continua en el acceso a la conectividad.\n",
    "Estas gráficas proporcionan una visión integral del acceso a internet en el país, crucial para que la empresa pueda ajustar sus estrategias y mejorar su posicionamiento en el mercado.\n"
   ]
  },
  {
   "cell_type": "markdown",
   "metadata": {},
   "source": []
  },
  {
   "cell_type": "code",
   "execution_count": 32,
   "metadata": {},
   "outputs": [
    {
     "name": "stdout",
     "output_type": "stream",
     "text": [
      "    Año  Trimestre        Provincia  HASTA 512 kbps  + 512 Kbps - 1 Mbps  \\\n",
      "0  2024          1     Buenos Aires         26002.0              22510.0   \n",
      "1  2024          1  Capital Federal           516.0               5418.0   \n",
      "2  2024          1        Catamarca            71.0                176.0   \n",
      "3  2024          1            Chaco           236.0                416.0   \n",
      "4  2024          1           Chubut           111.0               1083.0   \n",
      "\n",
      "   + 1 Mbps - 6 Mbps  + 6 Mbps - 10 Mbps  + 10 Mbps - 20 Mbps  \\\n",
      "0           221185.0            233225.0             241778.0   \n",
      "1            29753.0             51415.0              37369.0   \n",
      "2             2872.0              3424.0               4204.0   \n",
      "3            14156.0              9044.0               5533.0   \n",
      "4            43828.0             31885.0              23024.0   \n",
      "\n",
      "   + 20 Mbps - 30 Mbps  + 30 Mbps     OTROS      Total  \n",
      "0             106418.0  4068292.0  125147.0  5044557.0  \n",
      "1               5957.0  1374283.0       0.0  1504711.0  \n",
      "2               1822.0    62294.0      70.0    74933.0  \n",
      "3               5718.0   116624.0    3816.0   155543.0  \n",
      "4              20261.0    33844.0   16640.0   170676.0  \n"
     ]
    }
   ],
   "source": [
    "# Leer la hoja 'Accesos por velocidad' del archivo Excel\n",
    "Accesos_por_velocidad_limpio = pd.read_excel(file_path, sheet_name='Accesos por velocidad')\n",
    "\n",
    "# Mostrar las primeras filas del DataFrame para verificar\n",
    "print(Accesos_por_velocidad_limpio.head())"
   ]
  },
  {
   "cell_type": "code",
   "execution_count": 33,
   "metadata": {},
   "outputs": [
    {
     "name": "stdout",
     "output_type": "stream",
     "text": [
      "    Año  Trimestre        Provincia  HASTA 512 kbps  + 512 Kbps - 1 Mbps  \\\n",
      "0  2024          1     Buenos Aires         26002.0              22510.0   \n",
      "1  2024          1  Capital Federal           516.0               5418.0   \n",
      "2  2024          1        Catamarca            71.0                176.0   \n",
      "3  2024          1            Chaco           236.0                416.0   \n",
      "4  2024          1           Chubut           111.0               1083.0   \n",
      "\n",
      "   + 1 Mbps - 6 Mbps  + 6 Mbps - 10 Mbps  + 10 Mbps - 20 Mbps  \\\n",
      "0           221185.0            233225.0             241778.0   \n",
      "1            29753.0             51415.0              37369.0   \n",
      "2             2872.0              3424.0               4204.0   \n",
      "3            14156.0              9044.0               5533.0   \n",
      "4            43828.0             31885.0              23024.0   \n",
      "\n",
      "   + 20 Mbps - 30 Mbps  + 30 Mbps     OTROS      Total  \n",
      "0             106418.0  4068292.0  125147.0  5044557.0  \n",
      "1               5957.0  1374283.0       0.0  1504711.0  \n",
      "2               1822.0    62294.0      70.0    74933.0  \n",
      "3               5718.0   116624.0    3816.0   155543.0  \n",
      "4              20261.0    33844.0   16640.0   170676.0  \n"
     ]
    }
   ],
   "source": [
    "# Leer la hoja 'Accesos por velocidad' del archivo Excel\n",
    "Accesos_por_velocidad = pd.read_excel(file_path, sheet_name='Accesos por velocidad')\n",
    "\n",
    "# Mostrar las primeras filas del DataFrame para verificar\n",
    "print(Accesos_por_velocidad.head())"
   ]
  },
  {
   "cell_type": "code",
   "execution_count": 34,
   "metadata": {},
   "outputs": [
    {
     "name": "stdout",
     "output_type": "stream",
     "text": [
      "    Año  Trimestre        Provincia  HASTA 512 kbps  + 512 Kbps - 1 Mbps  \\\n",
      "0  2024          1     Buenos Aires         26002.0              22510.0   \n",
      "1  2024          1  Capital Federal           516.0               5418.0   \n",
      "2  2024          1        Catamarca            71.0                176.0   \n",
      "3  2024          1            Chaco           236.0                416.0   \n",
      "4  2024          1           Chubut           111.0               1083.0   \n",
      "\n",
      "   + 1 Mbps - 6 Mbps  + 6 Mbps - 10 Mbps  + 10 Mbps - 20 Mbps  \\\n",
      "0           221185.0            233225.0             241778.0   \n",
      "1            29753.0             51415.0              37369.0   \n",
      "2             2872.0              3424.0               4204.0   \n",
      "3            14156.0              9044.0               5533.0   \n",
      "4            43828.0             31885.0              23024.0   \n",
      "\n",
      "   + 20 Mbps - 30 Mbps  + 30 Mbps      Total  \n",
      "0             106418.0  4068292.0  5044557.0  \n",
      "1               5957.0  1374283.0  1504711.0  \n",
      "2               1822.0    62294.0    74933.0  \n",
      "3               5718.0   116624.0   155543.0  \n",
      "4              20261.0    33844.0   170676.0  \n"
     ]
    }
   ],
   "source": [
    "# Eliminar la columna 'OTROS' del DataFrame\n",
    "Accesos_por_velocidad = Accesos_por_velocidad.drop(columns=['OTROS'])\n",
    "\n",
    "# Mostrar el DataFrame para verificar la eliminación\n",
    "print(Accesos_por_velocidad.head())"
   ]
  },
  {
   "cell_type": "code",
   "execution_count": 35,
   "metadata": {},
   "outputs": [],
   "source": [
    "# Calcular el porcentaje de accesos en cada rango de velocidad\n",
    "for col in ['HASTA 512 kbps', '+ 512 Kbps - 1 Mbps', '+ 1 Mbps - 6 Mbps', '+ 6 Mbps - 10 Mbps', '+ 10 Mbps - 20 Mbps', '+ 20 Mbps - 30 Mbps', '+ 30 Mbps']:\n",
    "    Accesos_por_velocidad[f'{col}_Porcentaje'] = (Accesos_por_velocidad[col] / Accesos_por_velocidad['Total']) * 100\n"
   ]
  },
  {
   "cell_type": "code",
   "execution_count": 36,
   "metadata": {},
   "outputs": [],
   "source": [
    "# Asumir un valor promedio para cada rango de velocidad en Mbps\n",
    "velocidad = {\n",
    "    'HASTA 512 kbps': 0.256,       # 512 kbps = 0.512 Mbps / 2\n",
    "    '+ 512 Kbps - 1 Mbps': 0.75,\n",
    "    '+ 1 Mbps - 6 Mbps': 3.5,\n",
    "    '+ 6 Mbps - 10 Mbps': 8,\n",
    "    '+ 10 Mbps - 20 Mbps': 15,\n",
    "    '+ 20 Mbps - 30 Mbps': 25,\n",
    "    '+ 30 Mbps': 35\n",
    "}\n",
    "\n",
    "# Calcular el promedio ponderado de velocidad\n",
    "Accesos_por_velocidad['Promedio_Velocidad'] = sum(\n",
    "    Accesos_por_velocidad[f'{col}_Porcentaje'] * velocidad[col] for col in velocidad\n",
    ") / 100\n"
   ]
  },
  {
   "cell_type": "code",
   "execution_count": 37,
   "metadata": {},
   "outputs": [],
   "source": [
    "# Agrupar por año y calcular la media de velocidad\n",
    "calidad_anual = Accesos_por_velocidad.groupby('Año')['Promedio_Velocidad'].mean().reset_index()\n"
   ]
  },
  {
   "cell_type": "code",
   "execution_count": 38,
   "metadata": {},
   "outputs": [],
   "source": [
    "# Agrupar por provincia y año para obtener la calidad promedio\n",
    "calidad_provincia_anual = Accesos_por_velocidad.groupby(['Año', 'Provincia'])['Promedio_Velocidad'].mean().reset_index()\n"
   ]
  },
  {
   "cell_type": "code",
   "execution_count": 39,
   "metadata": {},
   "outputs": [],
   "source": [
    "# Redondear la columna 'Promedio_Velocidad' a dos decimales\n",
    "calidad_provincia_anual['Promedio_Velocidad'] = calidad_provincia_anual['Promedio_Velocidad'].round(2)\n"
   ]
  },
  {
   "cell_type": "code",
   "execution_count": 40,
   "metadata": {},
   "outputs": [],
   "source": [
    "calidad_provincia_anual.to_excel('calidad_provincia_anual.xlsx', index=False)"
   ]
  },
  {
   "cell_type": "code",
   "execution_count": 41,
   "metadata": {},
   "outputs": [
    {
     "data": {
      "text/html": [
       "<div>\n",
       "<style scoped>\n",
       "    .dataframe tbody tr th:only-of-type {\n",
       "        vertical-align: middle;\n",
       "    }\n",
       "\n",
       "    .dataframe tbody tr th {\n",
       "        vertical-align: top;\n",
       "    }\n",
       "\n",
       "    .dataframe thead th {\n",
       "        text-align: right;\n",
       "    }\n",
       "</style>\n",
       "<table border=\"1\" class=\"dataframe\">\n",
       "  <thead>\n",
       "    <tr style=\"text-align: right;\">\n",
       "      <th></th>\n",
       "      <th>Año</th>\n",
       "      <th>Provincia</th>\n",
       "      <th>Promedio_Velocidad</th>\n",
       "    </tr>\n",
       "  </thead>\n",
       "  <tbody>\n",
       "    <tr>\n",
       "      <th>0</th>\n",
       "      <td>2014</td>\n",
       "      <td>Buenos Aires</td>\n",
       "      <td>3.95</td>\n",
       "    </tr>\n",
       "    <tr>\n",
       "      <th>1</th>\n",
       "      <td>2014</td>\n",
       "      <td>Capital Federal</td>\n",
       "      <td>4.40</td>\n",
       "    </tr>\n",
       "    <tr>\n",
       "      <th>2</th>\n",
       "      <td>2014</td>\n",
       "      <td>Catamarca</td>\n",
       "      <td>2.99</td>\n",
       "    </tr>\n",
       "    <tr>\n",
       "      <th>3</th>\n",
       "      <td>2014</td>\n",
       "      <td>Chaco</td>\n",
       "      <td>3.53</td>\n",
       "    </tr>\n",
       "    <tr>\n",
       "      <th>4</th>\n",
       "      <td>2014</td>\n",
       "      <td>Chubut</td>\n",
       "      <td>3.16</td>\n",
       "    </tr>\n",
       "    <tr>\n",
       "      <th>...</th>\n",
       "      <td>...</td>\n",
       "      <td>...</td>\n",
       "      <td>...</td>\n",
       "    </tr>\n",
       "    <tr>\n",
       "      <th>259</th>\n",
       "      <td>2024</td>\n",
       "      <td>Santa Cruz</td>\n",
       "      <td>11.60</td>\n",
       "    </tr>\n",
       "    <tr>\n",
       "      <th>260</th>\n",
       "      <td>2024</td>\n",
       "      <td>Santa Fe</td>\n",
       "      <td>25.12</td>\n",
       "    </tr>\n",
       "    <tr>\n",
       "      <th>261</th>\n",
       "      <td>2024</td>\n",
       "      <td>Santiago Del Estero</td>\n",
       "      <td>15.03</td>\n",
       "    </tr>\n",
       "    <tr>\n",
       "      <th>262</th>\n",
       "      <td>2024</td>\n",
       "      <td>Tierra Del Fuego</td>\n",
       "      <td>13.23</td>\n",
       "    </tr>\n",
       "    <tr>\n",
       "      <th>263</th>\n",
       "      <td>2024</td>\n",
       "      <td>Tucumán</td>\n",
       "      <td>28.68</td>\n",
       "    </tr>\n",
       "  </tbody>\n",
       "</table>\n",
       "<p>264 rows × 3 columns</p>\n",
       "</div>"
      ],
      "text/plain": [
       "      Año            Provincia  Promedio_Velocidad\n",
       "0    2014         Buenos Aires                3.95\n",
       "1    2014      Capital Federal                4.40\n",
       "2    2014            Catamarca                2.99\n",
       "3    2014                Chaco                3.53\n",
       "4    2014               Chubut                3.16\n",
       "..    ...                  ...                 ...\n",
       "259  2024           Santa Cruz               11.60\n",
       "260  2024             Santa Fe               25.12\n",
       "261  2024  Santiago Del Estero               15.03\n",
       "262  2024     Tierra Del Fuego               13.23\n",
       "263  2024              Tucumán               28.68\n",
       "\n",
       "[264 rows x 3 columns]"
      ]
     },
     "execution_count": 41,
     "metadata": {},
     "output_type": "execute_result"
    }
   ],
   "source": [
    "calidad_provincia_anual\n"
   ]
  },
  {
   "cell_type": "code",
   "execution_count": 42,
   "metadata": {},
   "outputs": [
    {
     "data": {
      "image/png": "[encoded data removed]",
      "text/plain": [
       "<Figure size 800x600 with 1 Axes>"
      ]
     },
     "metadata": {},
     "output_type": "display_data"
    }
   ],
   "source": [
    "plt.figure(figsize=(8, 6))\n",
    "sns.lineplot(data=calidad_anual, x='Año', y='Promedio_Velocidad', marker='o')\n",
    "plt.title('Evolución Anual de la Velocidad Promedio de Acceso a Internet')\n",
    "plt.xlabel('Año')\n",
    "plt.ylabel('Velocidad Promedio (Mbps)')\n",
    "plt.xticks(rotation=90)\n",
    "plt.tight_layout()\n",
    "plt.show()"
   ]
  },
  {
   "cell_type": "code",
   "execution_count": 43,
   "metadata": {},
   "outputs": [],
   "source": [
    "# Crear una copia del DataFrame original\n",
    "Accesos_por_veloc_porc= Accesos_por_velocidad.copy()\n",
    "\n",
    "# Eliminar las columnas especificadas\n",
    "columnas_a_eliminar = ['HASTA 512 kbps', '+ 512 Kbps - 1 Mbps', '+ 1 Mbps - 6 Mbps', \n",
    "                       '+ 6 Mbps - 10 Mbps', '+ 10 Mbps - 20 Mbps', '+ 20 Mbps - 30 Mbps', \n",
    "                       '+ 30 Mbps', 'Total', 'Promedio_Velocidad']\n",
    "\n",
    "Accesos_por_veloc_porc = Accesos_por_veloc_porc.drop(columns=columnas_a_eliminar)\n",
    "\n"
   ]
  },
  {
   "cell_type": "code",
   "execution_count": 44,
   "metadata": {},
   "outputs": [],
   "source": [
    "# Limitar las columnas porcentuales a dos decimales\n",
    "columnas_porcentuales = [\n",
    "    'HASTA 512 kbps_Porcentaje', \n",
    "    '+ 512 Kbps - 1 Mbps_Porcentaje', \n",
    "    '+ 1 Mbps - 6 Mbps_Porcentaje', \n",
    "    '+ 6 Mbps - 10 Mbps_Porcentaje', \n",
    "    '+ 10 Mbps - 20 Mbps_Porcentaje', \n",
    "    '+ 20 Mbps - 30 Mbps_Porcentaje', \n",
    "    '+ 30 Mbps_Porcentaje'\n",
    "]\n",
    "\n",
    "# Redondear los valores a dos decimales\n",
    "Accesos_por_veloc_porc[columnas_porcentuales] = Accesos_por_veloc_porc[columnas_porcentuales].round(2)\n"
   ]
  },
  {
   "cell_type": "code",
   "execution_count": 45,
   "metadata": {},
   "outputs": [],
   "source": [
    "# Diccionario con los nombres actuales y los nuevos nombres\n",
    "nuevos_nombres_columnas = {\n",
    "    'HASTA 512 kbps_Porcentaje': '512kbps_%',\n",
    "    '+ 512 Kbps - 1 Mbps_Porcentaje': '512kbps_1mbps_%',\n",
    "    '+ 1 Mbps - 6 Mbps_Porcentaje': '1mbps_6mbps_%',\n",
    "    '+ 6 Mbps - 10 Mbps_Porcentaje': '6mbps_10mbps_%',\n",
    "    '+ 10 Mbps - 20 Mbps_Porcentaje': '10mbps_20mbps_%',\n",
    "    '+ 20 Mbps - 30 Mbps_Porcentaje': '20mbps_30mbps_%',\n",
    "    '+ 30 Mbps_Porcentaje': '30mbps_%'\n",
    "}\n",
    "\n",
    "# Renombrar las columnas en el DataFrame\n",
    "Accesos_por_veloc_porc = Accesos_por_veloc_porc.rename(columns=nuevos_nombres_columnas)"
   ]
  },
  {
   "cell_type": "code",
   "execution_count": 46,
   "metadata": {},
   "outputs": [],
   "source": [
    "# Unificar las columnas sumando los valores\n",
    "Accesos_por_veloc_porc['1mbps_total_%'] = Accesos_por_veloc_porc['512kbps_%'] + Accesos_por_veloc_porc['512kbps_1mbps_%']"
   ]
  },
  {
   "cell_type": "code",
   "execution_count": 47,
   "metadata": {},
   "outputs": [],
   "source": [
    "# Eliminar las columnas originales\n",
    "columnas_a_eliminar = ['512kbps_%', '512kbps_1mbps_%']\n",
    "Accesos_por_veloc_porc = Accesos_por_veloc_porc.drop(columns=columnas_a_eliminar)"
   ]
  },
  {
   "cell_type": "code",
   "execution_count": 48,
   "metadata": {},
   "outputs": [],
   "source": [
    "# Reordenar las columnas para que la nueva columna esté en la primera posición después de Año, Trimestre y Provincia\n",
    "columnas = ['Año', 'Trimestre', 'Provincia', '1mbps_total_%', '1mbps_6mbps_%', '6mbps_10mbps_%', '10mbps_20mbps_%', '20mbps_30mbps_%', '30mbps_%']\n",
    "Accesos_por_veloc_porc = Accesos_por_veloc_porc[columnas]"
   ]
  },
  {
   "cell_type": "code",
   "execution_count": 49,
   "metadata": {},
   "outputs": [],
   "source": [
    "# Unir las columnas 1mbps_total_% y 1mbps_6mbps_% sumando los valores\n",
    "Accesos_por_veloc_porc['6mbps_total_%'] = Accesos_por_veloc_porc['1mbps_total_%'] + Accesos_por_veloc_porc['1mbps_6mbps_%']\n",
    "\n",
    "# Eliminar las columnas originales\n",
    "columnas_a_eliminar = ['1mbps_total_%', '1mbps_6mbps_%']\n",
    "Accesos_por_veloc_porc = Accesos_por_veloc_porc.drop(columns=columnas_a_eliminar)\n"
   ]
  },
  {
   "cell_type": "code",
   "execution_count": 50,
   "metadata": {},
   "outputs": [],
   "source": [
    "# Definir el nuevo orden de columnas\n",
    "columnas = ['Año', 'Trimestre', 'Provincia', '6mbps_total_%', '6mbps_10mbps_%', '10mbps_20mbps_%', '20mbps_30mbps_%', '30mbps_%']\n",
    "\n",
    "# Reordenar el DataFrame con el nuevo orden de columnas\n",
    "Accesos_por_veloc_porc = Accesos_por_veloc_porc[columnas]"
   ]
  },
  {
   "cell_type": "code",
   "execution_count": 51,
   "metadata": {},
   "outputs": [],
   "source": [
    "Accesos_por_veloc_porc.to_excel('Accesos_por_veloc_porc.xlsx', index=False)"
   ]
  },
  {
   "cell_type": "code",
   "execution_count": 52,
   "metadata": {},
   "outputs": [],
   "source": [
    "promedio_velocidad_provincia = Accesos_por_veloc_porc.groupby(['Año', 'Provincia']).mean().reset_index()"
   ]
  },
  {
   "cell_type": "code",
   "execution_count": 53,
   "metadata": {},
   "outputs": [
    {
     "data": {
      "text/html": [
       "<div>\n",
       "<style scoped>\n",
       "    .dataframe tbody tr th:only-of-type {\n",
       "        vertical-align: middle;\n",
       "    }\n",
       "\n",
       "    .dataframe tbody tr th {\n",
       "        vertical-align: top;\n",
       "    }\n",
       "\n",
       "    .dataframe thead th {\n",
       "        text-align: right;\n",
       "    }\n",
       "</style>\n",
       "<table border=\"1\" class=\"dataframe\">\n",
       "  <thead>\n",
       "    <tr style=\"text-align: right;\">\n",
       "      <th></th>\n",
       "      <th>Año</th>\n",
       "      <th>Provincia</th>\n",
       "      <th>Trimestre</th>\n",
       "      <th>6mbps_total_%</th>\n",
       "      <th>6mbps_10mbps_%</th>\n",
       "      <th>10mbps_20mbps_%</th>\n",
       "      <th>20mbps_30mbps_%</th>\n",
       "      <th>30mbps_%</th>\n",
       "    </tr>\n",
       "  </thead>\n",
       "  <tbody>\n",
       "    <tr>\n",
       "      <th>0</th>\n",
       "      <td>2014</td>\n",
       "      <td>Buenos Aires</td>\n",
       "      <td>2.5</td>\n",
       "      <td>91.4575</td>\n",
       "      <td>5.8375</td>\n",
       "      <td>2.5175</td>\n",
       "      <td>0.0175</td>\n",
       "      <td>0.1675</td>\n",
       "    </tr>\n",
       "    <tr>\n",
       "      <th>1</th>\n",
       "      <td>2014</td>\n",
       "      <td>Capital Federal</td>\n",
       "      <td>2.5</td>\n",
       "      <td>87.2325</td>\n",
       "      <td>7.2725</td>\n",
       "      <td>4.9550</td>\n",
       "      <td>0.0200</td>\n",
       "      <td>0.5175</td>\n",
       "    </tr>\n",
       "    <tr>\n",
       "      <th>2</th>\n",
       "      <td>2014</td>\n",
       "      <td>Catamarca</td>\n",
       "      <td>2.5</td>\n",
       "      <td>90.8400</td>\n",
       "      <td>8.4575</td>\n",
       "      <td>0.7025</td>\n",
       "      <td>0.0000</td>\n",
       "      <td>0.0000</td>\n",
       "    </tr>\n",
       "    <tr>\n",
       "      <th>3</th>\n",
       "      <td>2014</td>\n",
       "      <td>Chaco</td>\n",
       "      <td>2.5</td>\n",
       "      <td>88.6175</td>\n",
       "      <td>9.1150</td>\n",
       "      <td>2.2075</td>\n",
       "      <td>0.0550</td>\n",
       "      <td>0.0000</td>\n",
       "    </tr>\n",
       "    <tr>\n",
       "      <th>4</th>\n",
       "      <td>2014</td>\n",
       "      <td>Chubut</td>\n",
       "      <td>2.5</td>\n",
       "      <td>99.9575</td>\n",
       "      <td>0.0375</td>\n",
       "      <td>0.0000</td>\n",
       "      <td>0.0000</td>\n",
       "      <td>0.0000</td>\n",
       "    </tr>\n",
       "    <tr>\n",
       "      <th>...</th>\n",
       "      <td>...</td>\n",
       "      <td>...</td>\n",
       "      <td>...</td>\n",
       "      <td>...</td>\n",
       "      <td>...</td>\n",
       "      <td>...</td>\n",
       "      <td>...</td>\n",
       "      <td>...</td>\n",
       "    </tr>\n",
       "    <tr>\n",
       "      <th>259</th>\n",
       "      <td>2024</td>\n",
       "      <td>Santa Cruz</td>\n",
       "      <td>2.5</td>\n",
       "      <td>9.9100</td>\n",
       "      <td>12.1650</td>\n",
       "      <td>11.1150</td>\n",
       "      <td>6.4900</td>\n",
       "      <td>20.0300</td>\n",
       "    </tr>\n",
       "    <tr>\n",
       "      <th>260</th>\n",
       "      <td>2024</td>\n",
       "      <td>Santa Fe</td>\n",
       "      <td>2.5</td>\n",
       "      <td>9.4550</td>\n",
       "      <td>17.3450</td>\n",
       "      <td>6.4700</td>\n",
       "      <td>2.7650</td>\n",
       "      <td>62.1750</td>\n",
       "    </tr>\n",
       "    <tr>\n",
       "      <th>261</th>\n",
       "      <td>2024</td>\n",
       "      <td>Santiago Del Estero</td>\n",
       "      <td>2.5</td>\n",
       "      <td>11.3500</td>\n",
       "      <td>43.2950</td>\n",
       "      <td>19.7050</td>\n",
       "      <td>4.6800</td>\n",
       "      <td>20.2100</td>\n",
       "    </tr>\n",
       "    <tr>\n",
       "      <th>262</th>\n",
       "      <td>2024</td>\n",
       "      <td>Tierra Del Fuego</td>\n",
       "      <td>2.5</td>\n",
       "      <td>17.9950</td>\n",
       "      <td>18.1000</td>\n",
       "      <td>25.6350</td>\n",
       "      <td>17.8800</td>\n",
       "      <td>8.2050</td>\n",
       "    </tr>\n",
       "    <tr>\n",
       "      <th>263</th>\n",
       "      <td>2024</td>\n",
       "      <td>Tucumán</td>\n",
       "      <td>2.5</td>\n",
       "      <td>6.9950</td>\n",
       "      <td>8.0500</td>\n",
       "      <td>8.9900</td>\n",
       "      <td>0.5950</td>\n",
       "      <td>75.1700</td>\n",
       "    </tr>\n",
       "  </tbody>\n",
       "</table>\n",
       "<p>264 rows × 8 columns</p>\n",
       "</div>"
      ],
      "text/plain": [
       "      Año            Provincia  Trimestre  6mbps_total_%  6mbps_10mbps_%  \\\n",
       "0    2014         Buenos Aires        2.5        91.4575          5.8375   \n",
       "1    2014      Capital Federal        2.5        87.2325          7.2725   \n",
       "2    2014            Catamarca        2.5        90.8400          8.4575   \n",
       "3    2014                Chaco        2.5        88.6175          9.1150   \n",
       "4    2014               Chubut        2.5        99.9575          0.0375   \n",
       "..    ...                  ...        ...            ...             ...   \n",
       "259  2024           Santa Cruz        2.5         9.9100         12.1650   \n",
       "260  2024             Santa Fe        2.5         9.4550         17.3450   \n",
       "261  2024  Santiago Del Estero        2.5        11.3500         43.2950   \n",
       "262  2024     Tierra Del Fuego        2.5        17.9950         18.1000   \n",
       "263  2024              Tucumán        2.5         6.9950          8.0500   \n",
       "\n",
       "     10mbps_20mbps_%  20mbps_30mbps_%  30mbps_%  \n",
       "0             2.5175           0.0175    0.1675  \n",
       "1             4.9550           0.0200    0.5175  \n",
       "2             0.7025           0.0000    0.0000  \n",
       "3             2.2075           0.0550    0.0000  \n",
       "4             0.0000           0.0000    0.0000  \n",
       "..               ...              ...       ...  \n",
       "259          11.1150           6.4900   20.0300  \n",
       "260           6.4700           2.7650   62.1750  \n",
       "261          19.7050           4.6800   20.2100  \n",
       "262          25.6350          17.8800    8.2050  \n",
       "263           8.9900           0.5950   75.1700  \n",
       "\n",
       "[264 rows x 8 columns]"
      ]
     },
     "execution_count": 53,
     "metadata": {},
     "output_type": "execute_result"
    }
   ],
   "source": [
    "promedio_velocidad_provincia"
   ]
  },
  {
   "cell_type": "code",
   "execution_count": 54,
   "metadata": {},
   "outputs": [
    {
     "data": {
      "text/html": [
       "<div>\n",
       "<style scoped>\n",
       "    .dataframe tbody tr th:only-of-type {\n",
       "        vertical-align: middle;\n",
       "    }\n",
       "\n",
       "    .dataframe tbody tr th {\n",
       "        vertical-align: top;\n",
       "    }\n",
       "\n",
       "    .dataframe thead th {\n",
       "        text-align: right;\n",
       "    }\n",
       "</style>\n",
       "<table border=\"1\" class=\"dataframe\">\n",
       "  <thead>\n",
       "    <tr style=\"text-align: right;\">\n",
       "      <th></th>\n",
       "      <th>Año</th>\n",
       "      <th>Trimestre</th>\n",
       "      <th>Provincia</th>\n",
       "      <th>6mbps_total_%</th>\n",
       "      <th>6mbps_10mbps_%</th>\n",
       "      <th>10mbps_20mbps_%</th>\n",
       "      <th>20mbps_30mbps_%</th>\n",
       "      <th>30mbps_%</th>\n",
       "    </tr>\n",
       "  </thead>\n",
       "  <tbody>\n",
       "    <tr>\n",
       "      <th>0</th>\n",
       "      <td>2024</td>\n",
       "      <td>1</td>\n",
       "      <td>Buenos Aires</td>\n",
       "      <td>5.35</td>\n",
       "      <td>4.62</td>\n",
       "      <td>4.79</td>\n",
       "      <td>2.11</td>\n",
       "      <td>80.65</td>\n",
       "    </tr>\n",
       "    <tr>\n",
       "      <th>1</th>\n",
       "      <td>2024</td>\n",
       "      <td>1</td>\n",
       "      <td>Capital Federal</td>\n",
       "      <td>2.37</td>\n",
       "      <td>3.42</td>\n",
       "      <td>2.48</td>\n",
       "      <td>0.40</td>\n",
       "      <td>91.33</td>\n",
       "    </tr>\n",
       "    <tr>\n",
       "      <th>2</th>\n",
       "      <td>2024</td>\n",
       "      <td>1</td>\n",
       "      <td>Catamarca</td>\n",
       "      <td>4.15</td>\n",
       "      <td>4.57</td>\n",
       "      <td>5.61</td>\n",
       "      <td>2.43</td>\n",
       "      <td>83.13</td>\n",
       "    </tr>\n",
       "    <tr>\n",
       "      <th>3</th>\n",
       "      <td>2024</td>\n",
       "      <td>1</td>\n",
       "      <td>Chaco</td>\n",
       "      <td>9.52</td>\n",
       "      <td>5.81</td>\n",
       "      <td>3.56</td>\n",
       "      <td>3.68</td>\n",
       "      <td>74.98</td>\n",
       "    </tr>\n",
       "    <tr>\n",
       "      <th>4</th>\n",
       "      <td>2024</td>\n",
       "      <td>1</td>\n",
       "      <td>Chubut</td>\n",
       "      <td>26.38</td>\n",
       "      <td>18.68</td>\n",
       "      <td>13.49</td>\n",
       "      <td>11.87</td>\n",
       "      <td>19.83</td>\n",
       "    </tr>\n",
       "    <tr>\n",
       "      <th>...</th>\n",
       "      <td>...</td>\n",
       "      <td>...</td>\n",
       "      <td>...</td>\n",
       "      <td>...</td>\n",
       "      <td>...</td>\n",
       "      <td>...</td>\n",
       "      <td>...</td>\n",
       "      <td>...</td>\n",
       "    </tr>\n",
       "    <tr>\n",
       "      <th>979</th>\n",
       "      <td>2014</td>\n",
       "      <td>1</td>\n",
       "      <td>Santa Cruz</td>\n",
       "      <td>99.99</td>\n",
       "      <td>0.00</td>\n",
       "      <td>0.00</td>\n",
       "      <td>0.00</td>\n",
       "      <td>0.00</td>\n",
       "    </tr>\n",
       "    <tr>\n",
       "      <th>980</th>\n",
       "      <td>2014</td>\n",
       "      <td>1</td>\n",
       "      <td>Santa Fe</td>\n",
       "      <td>94.49</td>\n",
       "      <td>4.02</td>\n",
       "      <td>1.35</td>\n",
       "      <td>0.00</td>\n",
       "      <td>0.13</td>\n",
       "    </tr>\n",
       "    <tr>\n",
       "      <th>981</th>\n",
       "      <td>2014</td>\n",
       "      <td>1</td>\n",
       "      <td>Santiago Del Estero</td>\n",
       "      <td>93.18</td>\n",
       "      <td>6.53</td>\n",
       "      <td>0.29</td>\n",
       "      <td>0.00</td>\n",
       "      <td>0.00</td>\n",
       "    </tr>\n",
       "    <tr>\n",
       "      <th>982</th>\n",
       "      <td>2014</td>\n",
       "      <td>1</td>\n",
       "      <td>Tierra Del Fuego</td>\n",
       "      <td>99.99</td>\n",
       "      <td>0.02</td>\n",
       "      <td>0.00</td>\n",
       "      <td>0.00</td>\n",
       "      <td>0.00</td>\n",
       "    </tr>\n",
       "    <tr>\n",
       "      <th>983</th>\n",
       "      <td>2014</td>\n",
       "      <td>1</td>\n",
       "      <td>Tucumán</td>\n",
       "      <td>90.65</td>\n",
       "      <td>9.06</td>\n",
       "      <td>0.28</td>\n",
       "      <td>0.00</td>\n",
       "      <td>0.00</td>\n",
       "    </tr>\n",
       "  </tbody>\n",
       "</table>\n",
       "<p>984 rows × 8 columns</p>\n",
       "</div>"
      ],
      "text/plain": [
       "      Año  Trimestre            Provincia  6mbps_total_%  6mbps_10mbps_%  \\\n",
       "0    2024          1         Buenos Aires           5.35            4.62   \n",
       "1    2024          1      Capital Federal           2.37            3.42   \n",
       "2    2024          1            Catamarca           4.15            4.57   \n",
       "3    2024          1                Chaco           9.52            5.81   \n",
       "4    2024          1               Chubut          26.38           18.68   \n",
       "..    ...        ...                  ...            ...             ...   \n",
       "979  2014          1           Santa Cruz          99.99            0.00   \n",
       "980  2014          1             Santa Fe          94.49            4.02   \n",
       "981  2014          1  Santiago Del Estero          93.18            6.53   \n",
       "982  2014          1     Tierra Del Fuego          99.99            0.02   \n",
       "983  2014          1              Tucumán          90.65            9.06   \n",
       "\n",
       "     10mbps_20mbps_%  20mbps_30mbps_%  30mbps_%  \n",
       "0               4.79             2.11     80.65  \n",
       "1               2.48             0.40     91.33  \n",
       "2               5.61             2.43     83.13  \n",
       "3               3.56             3.68     74.98  \n",
       "4              13.49            11.87     19.83  \n",
       "..               ...              ...       ...  \n",
       "979             0.00             0.00      0.00  \n",
       "980             1.35             0.00      0.13  \n",
       "981             0.29             0.00      0.00  \n",
       "982             0.00             0.00      0.00  \n",
       "983             0.28             0.00      0.00  \n",
       "\n",
       "[984 rows x 8 columns]"
      ]
     },
     "execution_count": 54,
     "metadata": {},
     "output_type": "execute_result"
    }
   ],
   "source": [
    "Accesos_por_veloc_porc"
   ]
  },
  {
   "cell_type": "code",
   "execution_count": 55,
   "metadata": {},
   "outputs": [
    {
     "name": "stdout",
     "output_type": "stream",
     "text": [
      "    Año  Trimestre  Hasta 512 kbps  Entre 512 Kbps y 1 Mbps  \\\n",
      "0  2024          1           28801                    69355   \n",
      "1  2023          4           29708                    71742   \n",
      "2  2023          3           30274                    80609   \n",
      "3  2023          2           30827                    79405   \n",
      "4  2023          1           31437                    82048   \n",
      "\n",
      "   Entre 1 Mbps y 6 Mbps  Entre 6 Mbps y 10 Mbps  Entre 10 Mbps y 20 Mbps  \\\n",
      "0                 866152                  950930                   672155   \n",
      "1                 900253                  978108                   697232   \n",
      "2                 945608                  998725                   720084   \n",
      "3                 963510                 1028250                   734125   \n",
      "4                1001553                 1060321                   729194   \n",
      "\n",
      "   Entre 20 Mbps y 30 Mbps  Más de 30 Mbps   OTROS     Total  \n",
      "0                   353896         8363694  328173  11633156  \n",
      "1                   350290         8224736  295592  11547661  \n",
      "2                   350918         8003269  277421  11406908  \n",
      "3                   364730         7775095  275955  11251897  \n",
      "4                   357769         7564819  414754  11241895  \n"
     ]
    }
   ],
   "source": [
    "# Leer la pestaña \"Totales Accesos por velocidad\"\n",
    "totales_accesos = pd.read_excel(file_path, sheet_name=\"Totales Accesos por velocidad\")\n",
    "\n",
    "# Mostrar las primeras filas del DataFrame para verificar la carga de datos\n",
    "print(totales_accesos.head())"
   ]
  },
  {
   "cell_type": "code",
   "execution_count": 56,
   "metadata": {},
   "outputs": [
    {
     "name": "stdout",
     "output_type": "stream",
     "text": [
      "    Año  Trimestre  Hasta 512 kbps  Entre 512 Kbps y 1 Mbps  \\\n",
      "0  2024          1           28801                    69355   \n",
      "1  2023          4           29708                    71742   \n",
      "2  2023          3           30274                    80609   \n",
      "3  2023          2           30827                    79405   \n",
      "4  2023          1           31437                    82048   \n",
      "\n",
      "   Entre 1 Mbps y 6 Mbps  Entre 6 Mbps y 10 Mbps  Entre 10 Mbps y 20 Mbps  \\\n",
      "0                 866152                  950930                   672155   \n",
      "1                 900253                  978108                   697232   \n",
      "2                 945608                  998725                   720084   \n",
      "3                 963510                 1028250                   734125   \n",
      "4                1001553                 1060321                   729194   \n",
      "\n",
      "   Entre 20 Mbps y 30 Mbps  Más de 30 Mbps     Total  \n",
      "0                   353896         8363694  11633156  \n",
      "1                   350290         8224736  11547661  \n",
      "2                   350918         8003269  11406908  \n",
      "3                   364730         7775095  11251897  \n",
      "4                   357769         7564819  11241895  \n"
     ]
    }
   ],
   "source": [
    "# Eliminar la columna \"Otros\" del DataFrame\n",
    "totales_accesos = totales_accesos.drop(columns=['OTROS'])\n",
    "\n",
    "# Verificar la eliminación mostrando las primeras filas del DataFrame\n",
    "print(totales_accesos.head())\n"
   ]
  },
  {
   "cell_type": "code",
   "execution_count": 57,
   "metadata": {},
   "outputs": [
    {
     "name": "stdout",
     "output_type": "stream",
     "text": [
      "Valores faltantes por columna:\n",
      "Año                        0\n",
      "Trimestre                  0\n",
      "Hasta 512 kbps             0\n",
      "Entre 512 Kbps y 1 Mbps    0\n",
      "Entre 1 Mbps y 6 Mbps      0\n",
      "Entre 6 Mbps y 10 Mbps     0\n",
      "Entre 10 Mbps y 20 Mbps    0\n",
      "Entre 20 Mbps y 30 Mbps    0\n",
      "Más de 30 Mbps             0\n",
      "Total                      0\n",
      "dtype: int64\n"
     ]
    }
   ],
   "source": [
    "# Contar los valores faltantes en cada columna\n",
    "valores_faltantes = totales_accesos.isnull().sum()\n",
    "\n",
    "# Mostrar los resultados\n",
    "print(\"Valores faltantes por columna:\")\n",
    "print(valores_faltantes)\n"
   ]
  },
  {
   "cell_type": "code",
   "execution_count": 58,
   "metadata": {},
   "outputs": [
    {
     "name": "stdout",
     "output_type": "stream",
     "text": [
      "Cantidad de registros duplicados: 0\n"
     ]
    }
   ],
   "source": [
    "# Contar los registros duplicados\n",
    "duplicados = totales_accesos.duplicated().sum()\n",
    "\n",
    "# Mostrar el número de duplicados\n",
    "print(f\"Cantidad de registros duplicados: {duplicados}\")\n",
    "\n",
    "\n"
   ]
  },
  {
   "cell_type": "code",
   "execution_count": 59,
   "metadata": {},
   "outputs": [
    {
     "data": {
      "image/png": "[encoded data removed]",
      "text/plain": [
       "<Figure size 800x500 with 1 Axes>"
      ]
     },
     "metadata": {},
     "output_type": "display_data"
    }
   ],
   "source": [
    "# Asignar valores representativos a cada rango de velocidad\n",
    "valores_representativos = {\n",
    "    'Hasta 512 kbps': 0.5,  # Mbps\n",
    "    'Entre 512 Kbps y 1 Mbps': 0.75,\n",
    "    'Entre 1 Mbps y 6 Mbps': 3.5,\n",
    "    'Entre 6 Mbps y 10 Mbps': 8,\n",
    "    'Entre 10 Mbps y 20 Mbps': 15,\n",
    "    'Entre 20 Mbps y 30 Mbps': 25,\n",
    "    'Más de 30 Mbps': 35\n",
    "}\n",
    "\n",
    "# Crear una nueva columna para cada rango de velocidad multiplicado por su valor representativo\n",
    "for columna, valor in valores_representativos.items():\n",
    "    totales_accesos[f'{columna}_ponderado'] = totales_accesos[columna] * valor\n",
    "\n",
    "# Calcular la velocidad promedio ponderada para cada fila (suma ponderada de velocidades / total de accesos)\n",
    "totales_accesos['Velocidad_Promedio'] = totales_accesos[[f'{columna}_ponderado' for columna in valores_representativos.keys()]].sum(axis=1) / totales_accesos['Total']\n",
    "\n",
    "# Calcular la velocidad promedio anual\n",
    "velocidad_promedio_anual = totales_accesos.groupby('Año')['Velocidad_Promedio'].mean().reset_index()\n",
    "\n",
    "# Graficar la evolución de la velocidad promedio por año\n",
    "plt.figure(figsize=(8, 5))\n",
    "sns.lineplot(data=velocidad_promedio_anual, x='Año', y='Velocidad_Promedio', marker='o')\n",
    "plt.title('Evolución de la Velocidad Promedio de Acceso a Internet por Año')\n",
    "plt.xlabel('Año')\n",
    "plt.ylabel('Velocidad Promedio (Mbps)')\n",
    "plt.xticks(rotation=45)\n",
    "plt.tight_layout()\n",
    "plt.show()\n",
    "\n"
   ]
  },
  {
   "cell_type": "markdown",
   "metadata": {},
   "source": [
    "## Análisis de la Calidad del Servicio de Internet\n",
    "\n",
    "### Introducción\n",
    "\n",
    "Este análisis tiene como objetivo medir y evaluar la calidad del acceso a internet a nivel nacional, desglosando los accesos por velocidad de conexión. Los datos proporcionan información sobre la distribución de accesos en diferentes rangos de velocidad, lo cual es fundamental para comprender la calidad del servicio y orientar las estrategias de la empresa.\n",
    "\n",
    "### Gráfica: Evolución Anual de la Velocidad Promedio de Acceso\n",
    "\n",
    "El gráfico de líneas muestra cómo ha cambiado la velocidad promedio de acceso a internet por año. Esto ayuda a identificar tendencias y patrones en la mejora del servicio a lo largo del tiempo.\n",
    "\n",
    "**Propósito:**\n",
    "- Evaluar la mejora en la calidad del servicio de internet en el país.\n",
    "- Identificar años con mejoras significativas o caídas en la velocidad promedio.\n",
    "\n",
    "\n",
    "### Conclusiones\n",
    "\n",
    "- **Tendencias Generales:** La evolución anual de la velocidad promedio indica un aumento en la calidad del acceso a internet en el país, lo que sugiere una mejora continua en los servicios.\n",
    "\n",
    "Este análisis proporciona una visión integral de la calidad del acceso a internet en el país, facilitando la identificación de oportunidades de mejora y la formulación de estrategias para optimizar el servicio ofrecido.\n"
   ]
  },
  {
   "cell_type": "code",
   "execution_count": 60,
   "metadata": {},
   "outputs": [
    {
     "name": "stdout",
     "output_type": "stream",
     "text": [
      "    Año  Trimestre     ADSL  Cablemodem  Fibra óptica  Wireless   Otros  \\\n",
      "0  2024          1   774475     5986957       4015101    598682  257941   \n",
      "1  2023          4   836390     6022532       3908183    585760  194796   \n",
      "2  2023          3   897895     6018832       3708718    581436  200027   \n",
      "3  2023          2  1006509     5997149       3463988    581823  202428   \n",
      "4  2023          1  1204417     6002582       3243411    576647  214838   \n",
      "\n",
      "      Total        Periodo  \n",
      "0  11633156   Ene-Mar 2024  \n",
      "1  11547661   Oct-Dic 2023  \n",
      "2  11406908  Jul-Sept 2023  \n",
      "3  11251897   Abr-Jun 2023  \n",
      "4  11241895   Ene-Mar 2023  \n"
     ]
    }
   ],
   "source": [
    "# Leer la hoja 'Totales Accesos Por Tecnología'\n",
    "totales_accesos_tecnologia = pd.read_excel(file_path, sheet_name='Totales Accesos Por Tecnología')\n",
    "\n",
    "# Mostrar las primeras filas del DataFrame para verificar que se ha cargado correctamente\n",
    "print(totales_accesos_tecnologia.head())"
   ]
  },
  {
   "cell_type": "code",
   "execution_count": 61,
   "metadata": {},
   "outputs": [
    {
     "name": "stdout",
     "output_type": "stream",
     "text": [
      "Columnas después de eliminación: Index(['Año', 'Trimestre', 'ADSL', 'Cablemodem', 'Fibra óptica', 'Wireless',\n",
      "       'Total'],\n",
      "      dtype='object')\n"
     ]
    }
   ],
   "source": [
    "# Eliminar las columnas 'Periodo' y 'Otros'\n",
    "totales_accesos_tecnologia = totales_accesos_tecnologia.drop(columns=['Periodo', 'Otros'])\n",
    "\n",
    "# Verificar las columnas después de la eliminación\n",
    "print(\"Columnas después de eliminación:\", totales_accesos_tecnologia.columns)"
   ]
  },
  {
   "cell_type": "code",
   "execution_count": 62,
   "metadata": {},
   "outputs": [],
   "source": [
    "# Crear una copia del DataFrame para trabajar con ella\n",
    "df_copia = totales_accesos_tecnologia.copy()"
   ]
  },
  {
   "cell_type": "code",
   "execution_count": 63,
   "metadata": {},
   "outputs": [],
   "source": [
    "# Eliminar la columna 'Trimestre'\n",
    "df_copia = df_copia.drop(columns=['Trimestre'])"
   ]
  },
  {
   "cell_type": "code",
   "execution_count": 64,
   "metadata": {},
   "outputs": [
    {
     "name": "stdout",
     "output_type": "stream",
     "text": [
      "    Año      ADSL  Cablemodem  Fibra óptica  Wireless     Total\n",
      "0  2014  14884750     9975087        604862    305234  26056633\n",
      "1  2015  15115694    11162971        620877    331431  27473819\n",
      "2  2016  15073814    12177088        680127    337396  28496058\n",
      "3  2017  14639302    14148063        766312    432844  30330683\n",
      "4  2018  13981984    16571272       1079124    870047  32968187\n"
     ]
    }
   ],
   "source": [
    "# Agrupar por 'Año' y sumar los valores de las demás columnas\n",
    "df_anual = df_copia.groupby('Año').sum().reset_index()\n",
    "# Suponiendo que df_anual ya está definido\n",
    "print(df_anual.head())"
   ]
  },
  {
   "cell_type": "code",
   "execution_count": 65,
   "metadata": {},
   "outputs": [
    {
     "data": {
      "image/png": "[encoded data removed]",
      "text/plain": [
       "<Figure size 800x600 with 1 Axes>"
      ]
     },
     "metadata": {},
     "output_type": "display_data"
    }
   ],
   "source": [
    "# Suponiendo que `df_anual` es el DataFrame con los datos agrupados por año\n",
    "# Excluye el año 2024\n",
    "df_anual = df_anual[df_anual['Año'] != 2024]\n",
    "\n",
    "# Establecer el tamaño del gráfico\n",
    "plt.figure(figsize=(8, 6))\n",
    "\n",
    "# Graficar cada tecnología\n",
    "for columna in ['ADSL', 'Cablemodem', 'Fibra óptica', 'Wireless']:\n",
    "    sns.lineplot(data=df_anual, x='Año', y=columna, label=columna, marker='o')\n",
    "\n",
    "# Configurar título y etiquetas\n",
    "plt.title('Evolución del Uso de Cada Tecnología de Acceso a Internet')\n",
    "plt.xlabel('Año')\n",
    "plt.ylabel('Número de Accesos')\n",
    "plt.legend(title='Tecnología')\n",
    "plt.xticks(rotation=45)\n",
    "plt.tight_layout()\n",
    "\n",
    "# Mostrar el gráfico\n",
    "plt.show()"
   ]
  },
  {
   "cell_type": "markdown",
   "metadata": {},
   "source": [
    "## Justificación del Uso del Gráfico y Conclusiones\n",
    "\n",
    "### Justificación del Gráfico\n",
    "\n",
    "El gráfico que se presenta a continuación muestra la evolución en el uso de diferentes tecnologías de conexión a Internet a lo largo del tiempo. Este tipo de visualización es crucial para entender las tendencias y patrones en la adopción de tecnologías, permitiendo una comparación clara entre las diferentes opciones disponibles. A través de este gráfico, podemos observar cómo cada tecnología ha evolucionado y qué tan popular se ha vuelto a lo largo de los años.\n",
    "\n",
    "### Conclusiones\n",
    "\n",
    "1. **ADSL (Línea de Abonado Digital Asimétrico)**\n",
    "   - **Tendencia:** Disminución con el paso del tiempo.\n",
    "   - **Observación:** La tecnología ADSL ha experimentado una disminución en su uso a lo largo de los años. Esto podría deberse a la llegada de tecnologías más avanzadas que ofrecen mejores velocidades y servicios.\n",
    "\n",
    "2. **Cablemodem**\n",
    "   - **Tendencia:** Mayor uso con una meseta a partir de 2022.\n",
    "   - **Observación:** El cablemodem ha sido la tecnología más utilizada durante el período observado. Sin embargo, desde 2022, su tasa de adopción ha alcanzado una meseta, indicando que la saturación del mercado podría haber ocurrido, y el crecimiento de nuevos usuarios se ha estabilizado.\n",
    "\n",
    "3. **Fibra Óptica**\n",
    "   - **Tendencia:** Crecimiento constante y rápida adopción.\n",
    "   - **Observación:** La fibra óptica ha mostrado una pendiente positiva significativa, convirtiéndose en la segunda tecnología más utilizada. Este crecimiento constante refleja el aumento en la demanda de conexiones de alta velocidad y la expansión de la infraestructura de fibra óptica.\n",
    "\n",
    "4. **Wireless (Inalámbrico)**\n",
    "   - **Tendencia:** Uso casi constante y bajo.\n",
    "   - **Observación:** La tecnología inalámbrica ha sido la menos utilizada y su tasa de adopción se ha mantenido casi constante a lo largo del tiempo. Esto podría deberse a las limitaciones en velocidad y cobertura en comparación con otras tecnologías.\n",
    "\n",
    "Este análisis permite a las empresas y responsables de políticas tomar decisiones informadas sobre dónde invertir en infraestructura y cómo adaptar sus estrategias para satisfacer la demanda de los usuarios en función de la evolución de estas tecnologías.\n"
   ]
  },
  {
   "cell_type": "code",
   "execution_count": 66,
   "metadata": {},
   "outputs": [],
   "source": [
    "# Leer la hoja 'Totales Accesos Por Tecnología'\n",
    "Accesos_Tecnología_provincia = pd.read_excel(file_path, sheet_name='Accesos Por Tecnología')"
   ]
  },
  {
   "cell_type": "code",
   "execution_count": 67,
   "metadata": {},
   "outputs": [
    {
     "name": "stdout",
     "output_type": "stream",
     "text": [
      "Valores nulos por columna:\n",
      " Año             1\n",
      "Trimestre       1\n",
      "Provincia       2\n",
      "ADSL            2\n",
      "Cablemodem      2\n",
      "Fibra óptica    2\n",
      "Wireless        2\n",
      "dtype: int64\n",
      "Número de filas duplicadas: 0\n"
     ]
    }
   ],
   "source": [
    "# Eliminar las columnas 'Otros' y 'Total'\n",
    "Accesos_Tecnología_provincia.drop(['Otros', 'Total'], axis=1, inplace=True)\n",
    "\n",
    "\n",
    "# Verificar valores nulos\n",
    "valores_nulos = Accesos_Tecnología_provincia.isnull().sum()\n",
    "print(\"Valores nulos por columna:\\n\", valores_nulos)\n",
    "\n",
    "# Verificar si hay duplicados\n",
    "hay_duplicados = Accesos_Tecnología_provincia.duplicated().sum()\n",
    "print(\"Número de filas duplicadas:\", hay_duplicados)"
   ]
  },
  {
   "cell_type": "code",
   "execution_count": 68,
   "metadata": {},
   "outputs": [
    {
     "name": "stdout",
     "output_type": "stream",
     "text": [
      "     Año                                          Trimestre Provincia  ADSL  \\\n",
      "984  NaN                                                NaN       NaN   NaN   \n",
      "985    *  Los datos provinciales no coinciden a nivel na...       NaN   NaN   \n",
      "\n",
      "     Cablemodem  Fibra óptica  Wireless  \n",
      "984         NaN           NaN       NaN  \n",
      "985         NaN           NaN       NaN  \n"
     ]
    }
   ],
   "source": [
    "# Mostrar las filas que contienen valores nulos\n",
    "filas_nulas = Accesos_Tecnología_provincia[Accesos_Tecnología_provincia.isnull().any(axis=1)]\n",
    "print(filas_nulas)\n"
   ]
  },
  {
   "cell_type": "code",
   "execution_count": 69,
   "metadata": {},
   "outputs": [],
   "source": [
    "# Eliminar las filas que contienen valores nulos\n",
    "Accesos_Tecnología_provincia = Accesos_Tecnología_provincia.dropna()"
   ]
  },
  {
   "cell_type": "code",
   "execution_count": 70,
   "metadata": {},
   "outputs": [
    {
     "data": {
      "text/html": [
       "<div>\n",
       "<style scoped>\n",
       "    .dataframe tbody tr th:only-of-type {\n",
       "        vertical-align: middle;\n",
       "    }\n",
       "\n",
       "    .dataframe tbody tr th {\n",
       "        vertical-align: top;\n",
       "    }\n",
       "\n",
       "    .dataframe thead th {\n",
       "        text-align: right;\n",
       "    }\n",
       "</style>\n",
       "<table border=\"1\" class=\"dataframe\">\n",
       "  <thead>\n",
       "    <tr style=\"text-align: right;\">\n",
       "      <th></th>\n",
       "      <th>Año</th>\n",
       "      <th>Trimestre</th>\n",
       "      <th>Provincia</th>\n",
       "      <th>ADSL</th>\n",
       "      <th>Cablemodem</th>\n",
       "      <th>Fibra óptica</th>\n",
       "      <th>Wireless</th>\n",
       "    </tr>\n",
       "  </thead>\n",
       "  <tbody>\n",
       "    <tr>\n",
       "      <th>0</th>\n",
       "      <td>2024</td>\n",
       "      <td>1</td>\n",
       "      <td>Buenos Aires</td>\n",
       "      <td>203297.0</td>\n",
       "      <td>2790663.0</td>\n",
       "      <td>1799013.0</td>\n",
       "      <td>150290.0</td>\n",
       "    </tr>\n",
       "    <tr>\n",
       "      <th>1</th>\n",
       "      <td>2024</td>\n",
       "      <td>1</td>\n",
       "      <td>Capital Federal</td>\n",
       "      <td>70108.0</td>\n",
       "      <td>1177475.0</td>\n",
       "      <td>203756.0</td>\n",
       "      <td>4493.0</td>\n",
       "    </tr>\n",
       "    <tr>\n",
       "      <th>2</th>\n",
       "      <td>2024</td>\n",
       "      <td>1</td>\n",
       "      <td>Catamarca</td>\n",
       "      <td>5901.0</td>\n",
       "      <td>11025.0</td>\n",
       "      <td>56542.0</td>\n",
       "      <td>1384.0</td>\n",
       "    </tr>\n",
       "    <tr>\n",
       "      <th>3</th>\n",
       "      <td>2024</td>\n",
       "      <td>1</td>\n",
       "      <td>Chaco</td>\n",
       "      <td>11343.0</td>\n",
       "      <td>58929.0</td>\n",
       "      <td>64463.0</td>\n",
       "      <td>8404.0</td>\n",
       "    </tr>\n",
       "    <tr>\n",
       "      <th>4</th>\n",
       "      <td>2024</td>\n",
       "      <td>1</td>\n",
       "      <td>Chubut</td>\n",
       "      <td>26306.0</td>\n",
       "      <td>77217.0</td>\n",
       "      <td>26356.0</td>\n",
       "      <td>30867.0</td>\n",
       "    </tr>\n",
       "    <tr>\n",
       "      <th>...</th>\n",
       "      <td>...</td>\n",
       "      <td>...</td>\n",
       "      <td>...</td>\n",
       "      <td>...</td>\n",
       "      <td>...</td>\n",
       "      <td>...</td>\n",
       "      <td>...</td>\n",
       "    </tr>\n",
       "    <tr>\n",
       "      <th>979</th>\n",
       "      <td>2014</td>\n",
       "      <td>1</td>\n",
       "      <td>Santa Cruz</td>\n",
       "      <td>18927.0</td>\n",
       "      <td>100.0</td>\n",
       "      <td>381.0</td>\n",
       "      <td>4092.0</td>\n",
       "    </tr>\n",
       "    <tr>\n",
       "      <th>980</th>\n",
       "      <td>2014</td>\n",
       "      <td>1</td>\n",
       "      <td>Santa Fe</td>\n",
       "      <td>322662.0</td>\n",
       "      <td>174296.0</td>\n",
       "      <td>3059.0</td>\n",
       "      <td>5951.0</td>\n",
       "    </tr>\n",
       "    <tr>\n",
       "      <th>981</th>\n",
       "      <td>2014</td>\n",
       "      <td>1</td>\n",
       "      <td>Santiago Del Estero</td>\n",
       "      <td>32567.0</td>\n",
       "      <td>3598.0</td>\n",
       "      <td>19.0</td>\n",
       "      <td>915.0</td>\n",
       "    </tr>\n",
       "    <tr>\n",
       "      <th>982</th>\n",
       "      <td>2014</td>\n",
       "      <td>1</td>\n",
       "      <td>Tierra Del Fuego</td>\n",
       "      <td>21618.0</td>\n",
       "      <td>2837.0</td>\n",
       "      <td>648.0</td>\n",
       "      <td>1.0</td>\n",
       "    </tr>\n",
       "    <tr>\n",
       "      <th>983</th>\n",
       "      <td>2014</td>\n",
       "      <td>1</td>\n",
       "      <td>Tucumán</td>\n",
       "      <td>129717.0</td>\n",
       "      <td>83.0</td>\n",
       "      <td>121.0</td>\n",
       "      <td>13.0</td>\n",
       "    </tr>\n",
       "  </tbody>\n",
       "</table>\n",
       "<p>984 rows × 7 columns</p>\n",
       "</div>"
      ],
      "text/plain": [
       "      Año Trimestre            Provincia      ADSL  Cablemodem  Fibra óptica  \\\n",
       "0    2024         1         Buenos Aires  203297.0   2790663.0     1799013.0   \n",
       "1    2024         1      Capital Federal   70108.0   1177475.0      203756.0   \n",
       "2    2024         1            Catamarca    5901.0     11025.0       56542.0   \n",
       "3    2024         1                Chaco   11343.0     58929.0       64463.0   \n",
       "4    2024         1               Chubut   26306.0     77217.0       26356.0   \n",
       "..    ...       ...                  ...       ...         ...           ...   \n",
       "979  2014         1           Santa Cruz   18927.0       100.0         381.0   \n",
       "980  2014         1             Santa Fe  322662.0    174296.0        3059.0   \n",
       "981  2014         1  Santiago Del Estero   32567.0      3598.0          19.0   \n",
       "982  2014         1     Tierra Del Fuego   21618.0      2837.0         648.0   \n",
       "983  2014         1              Tucumán  129717.0        83.0         121.0   \n",
       "\n",
       "     Wireless  \n",
       "0    150290.0  \n",
       "1      4493.0  \n",
       "2      1384.0  \n",
       "3      8404.0  \n",
       "4     30867.0  \n",
       "..        ...  \n",
       "979    4092.0  \n",
       "980    5951.0  \n",
       "981     915.0  \n",
       "982       1.0  \n",
       "983      13.0  \n",
       "\n",
       "[984 rows x 7 columns]"
      ]
     },
     "execution_count": 70,
     "metadata": {},
     "output_type": "execute_result"
    }
   ],
   "source": [
    "Accesos_Tecnología_provincia"
   ]
  },
  {
   "cell_type": "code",
   "execution_count": 71,
   "metadata": {},
   "outputs": [
    {
     "name": "stdout",
     "output_type": "stream",
     "text": [
      "    Año Trimestre        Provincia      ADSL  Cablemodem  Fibra óptica  \\\n",
      "0  2024         1     Buenos Aires  203297.0   2790663.0     1799013.0   \n",
      "1  2024         1  Capital Federal   70108.0   1177475.0      203756.0   \n",
      "2  2024         1        Catamarca    5901.0     11025.0       56542.0   \n",
      "3  2024         1            Chaco   11343.0     58929.0       64463.0   \n",
      "4  2024         1           Chubut   26306.0     77217.0       26356.0   \n",
      "\n",
      "   Wireless     ADSL_%  Cablemodem_%  Fibra óptica_%  Wireless_%  \n",
      "0  150290.0   4.112607     56.453865       36.393229    3.040299  \n",
      "1    4493.0   4.815666     80.879868       13.995846    0.308621  \n",
      "2    1384.0   7.883557     14.729065       75.538396    1.848982  \n",
      "3    8404.0   7.924465     41.169073       45.035245    5.871216  \n",
      "4   30867.0  16.364948     48.036654       16.396053   19.202344  \n"
     ]
    }
   ],
   "source": [
    "# Calcular el total de accesos por fila\n",
    "Accesos_Tecnología_provincia['Total_Accesos'] = (\n",
    "    Accesos_Tecnología_provincia['ADSL'] +\n",
    "    Accesos_Tecnología_provincia['Cablemodem'] +\n",
    "    Accesos_Tecnología_provincia['Fibra óptica'] +\n",
    "    Accesos_Tecnología_provincia['Wireless']\n",
    ")\n",
    "\n",
    "# Convertir a porcentajes\n",
    "Accesos_Tecnología_provincia['ADSL_%'] = (Accesos_Tecnología_provincia['ADSL'] / Accesos_Tecnología_provincia['Total_Accesos']) * 100\n",
    "Accesos_Tecnología_provincia['Cablemodem_%'] = (Accesos_Tecnología_provincia['Cablemodem'] / Accesos_Tecnología_provincia['Total_Accesos']) * 100\n",
    "Accesos_Tecnología_provincia['Fibra óptica_%'] = (Accesos_Tecnología_provincia['Fibra óptica'] / Accesos_Tecnología_provincia['Total_Accesos']) * 100\n",
    "Accesos_Tecnología_provincia['Wireless_%'] = (Accesos_Tecnología_provincia['Wireless'] / Accesos_Tecnología_provincia['Total_Accesos']) * 100\n",
    "\n",
    "# Eliminar la columna Total_Accesos si no la necesitas\n",
    "Accesos_Tecnología_provincia.drop(columns=['Total_Accesos'], inplace=True)\n",
    "\n",
    "# Ver el DataFrame con las nuevas columnas de porcentaje\n",
    "print(Accesos_Tecnología_provincia.head())\n"
   ]
  },
  {
   "cell_type": "code",
   "execution_count": 72,
   "metadata": {},
   "outputs": [],
   "source": [
    "# Crear una copia del DataFrame original\n",
    "Accesos_Tecnología_provincia_porc = Accesos_Tecnología_provincia.copy()\n",
    "\n",
    "# Eliminar las columnas ADSL, Cablemodem, Fibra óptica y Wireless en el nuevo DataFrame\n",
    "Accesos_Tecnología_provincia_porc.drop(columns=['ADSL', 'Cablemodem', 'Fibra óptica', 'Wireless'], inplace=True)"
   ]
  },
  {
   "cell_type": "code",
   "execution_count": 73,
   "metadata": {},
   "outputs": [
    {
     "name": "stdout",
     "output_type": "stream",
     "text": [
      "    Año Trimestre        Provincia  ADSL_%  Cablemodem_%  Fibra óptica_%  \\\n",
      "0  2024         1     Buenos Aires    4.11         56.45           36.39   \n",
      "1  2024         1  Capital Federal    4.82         80.88           14.00   \n",
      "2  2024         1        Catamarca    7.88         14.73           75.54   \n",
      "3  2024         1            Chaco    7.92         41.17           45.04   \n",
      "4  2024         1           Chubut   16.36         48.04           16.40   \n",
      "\n",
      "   Wireless_%  \n",
      "0        3.04  \n",
      "1        0.31  \n",
      "2        1.85  \n",
      "3        5.87  \n",
      "4       19.20  \n"
     ]
    }
   ],
   "source": [
    "# Limitar todas las columnas de porcentaje a 2 decimales en un solo paso\n",
    "Accesos_Tecnología_provincia_porc[['ADSL_%', 'Cablemodem_%', 'Fibra óptica_%', 'Wireless_%']] = Accesos_Tecnología_provincia_porc[['ADSL_%', 'Cablemodem_%', 'Fibra óptica_%', 'Wireless_%']].round(2)\n",
    "\n",
    "# Verificar el DataFrame después de redondear\n",
    "print(Accesos_Tecnología_provincia_porc.head())\n"
   ]
  },
  {
   "cell_type": "code",
   "execution_count": 74,
   "metadata": {},
   "outputs": [],
   "source": [
    "Accesos_Tecnología_provincia_porc.to_excel('Accesos_Tecnología_provincia_porc.xlsx', index=False)"
   ]
  },
  {
   "cell_type": "code",
   "execution_count": 75,
   "metadata": {},
   "outputs": [],
   "source": [
    "# Filtrar el DataFrame para quedarse solo con las filas donde la columna 'año' es 2024\n",
    "Accesos_Tecnología_provincia_2024 = Accesos_Tecnología_provincia_porc[Accesos_Tecnología_provincia_porc['Año'] == 2024]"
   ]
  },
  {
   "cell_type": "code",
   "execution_count": 76,
   "metadata": {},
   "outputs": [],
   "source": [
    "Accesos_Tecnología_provincia_2024.to_excel('Accesos_Tecnología_provincia_2024.xlsx', index=False)"
   ]
  },
  {
   "cell_type": "code",
   "execution_count": 77,
   "metadata": {},
   "outputs": [
    {
     "ename": "ValueError",
     "evalue": "invalid literal for int() with base 10: '2019 *'",
     "output_type": "error",
     "traceback": [
      "\u001b[1;31m---------------------------------------------------------------------------\u001b[0m",
      "\u001b[1;31mValueError\u001b[0m                                Traceback (most recent call last)",
      "Cell \u001b[1;32mIn[77], line 1\u001b[0m\n\u001b[1;32m----> 1\u001b[0m Accesos_Tecnología_provincia_porc[\u001b[38;5;124m'\u001b[39m\u001b[38;5;124mAño\u001b[39m\u001b[38;5;124m'\u001b[39m] \u001b[38;5;241m=\u001b[39m \u001b[43mAccesos_Tecnología_provincia_porc\u001b[49m\u001b[43m[\u001b[49m\u001b[38;5;124;43m'\u001b[39;49m\u001b[38;5;124;43mAño\u001b[39;49m\u001b[38;5;124;43m'\u001b[39;49m\u001b[43m]\u001b[49m\u001b[38;5;241;43m.\u001b[39;49m\u001b[43mastype\u001b[49m\u001b[43m(\u001b[49m\u001b[38;5;28;43mint\u001b[39;49m\u001b[43m)\u001b[49m\n",
      "File \u001b[1;32m~\\AppData\\Local\\Packages\\PythonSoftwareFoundation.Python.3.10_qbz5n2kfra8p0\\LocalCache\\local-packages\\Python310\\site-packages\\pandas\\core\\generic.py:6643\u001b[0m, in \u001b[0;36mNDFrame.astype\u001b[1;34m(self, dtype, copy, errors)\u001b[0m\n\u001b[0;32m   6637\u001b[0m     results \u001b[38;5;241m=\u001b[39m [\n\u001b[0;32m   6638\u001b[0m         ser\u001b[38;5;241m.\u001b[39mastype(dtype, copy\u001b[38;5;241m=\u001b[39mcopy, errors\u001b[38;5;241m=\u001b[39merrors) \u001b[38;5;28;01mfor\u001b[39;00m _, ser \u001b[38;5;129;01min\u001b[39;00m \u001b[38;5;28mself\u001b[39m\u001b[38;5;241m.\u001b[39mitems()\n\u001b[0;32m   6639\u001b[0m     ]\n\u001b[0;32m   6641\u001b[0m \u001b[38;5;28;01melse\u001b[39;00m:\n\u001b[0;32m   6642\u001b[0m     \u001b[38;5;66;03m# else, only a single dtype is given\u001b[39;00m\n\u001b[1;32m-> 6643\u001b[0m     new_data \u001b[38;5;241m=\u001b[39m \u001b[38;5;28;43mself\u001b[39;49m\u001b[38;5;241;43m.\u001b[39;49m\u001b[43m_mgr\u001b[49m\u001b[38;5;241;43m.\u001b[39;49m\u001b[43mastype\u001b[49m\u001b[43m(\u001b[49m\u001b[43mdtype\u001b[49m\u001b[38;5;241;43m=\u001b[39;49m\u001b[43mdtype\u001b[49m\u001b[43m,\u001b[49m\u001b[43m \u001b[49m\u001b[43mcopy\u001b[49m\u001b[38;5;241;43m=\u001b[39;49m\u001b[43mcopy\u001b[49m\u001b[43m,\u001b[49m\u001b[43m \u001b[49m\u001b[43merrors\u001b[49m\u001b[38;5;241;43m=\u001b[39;49m\u001b[43merrors\u001b[49m\u001b[43m)\u001b[49m\n\u001b[0;32m   6644\u001b[0m     res \u001b[38;5;241m=\u001b[39m \u001b[38;5;28mself\u001b[39m\u001b[38;5;241m.\u001b[39m_constructor_from_mgr(new_data, axes\u001b[38;5;241m=\u001b[39mnew_data\u001b[38;5;241m.\u001b[39maxes)\n\u001b[0;32m   6645\u001b[0m     \u001b[38;5;28;01mreturn\u001b[39;00m res\u001b[38;5;241m.\u001b[39m__finalize__(\u001b[38;5;28mself\u001b[39m, method\u001b[38;5;241m=\u001b[39m\u001b[38;5;124m\"\u001b[39m\u001b[38;5;124mastype\u001b[39m\u001b[38;5;124m\"\u001b[39m)\n",
      "File \u001b[1;32m~\\AppData\\Local\\Packages\\PythonSoftwareFoundation.Python.3.10_qbz5n2kfra8p0\\LocalCache\\local-packages\\Python310\\site-packages\\pandas\\core\\internals\\managers.py:430\u001b[0m, in \u001b[0;36mBaseBlockManager.astype\u001b[1;34m(self, dtype, copy, errors)\u001b[0m\n\u001b[0;32m    427\u001b[0m \u001b[38;5;28;01melif\u001b[39;00m using_copy_on_write():\n\u001b[0;32m    428\u001b[0m     copy \u001b[38;5;241m=\u001b[39m \u001b[38;5;28;01mFalse\u001b[39;00m\n\u001b[1;32m--> 430\u001b[0m \u001b[38;5;28;01mreturn\u001b[39;00m \u001b[38;5;28;43mself\u001b[39;49m\u001b[38;5;241;43m.\u001b[39;49m\u001b[43mapply\u001b[49m\u001b[43m(\u001b[49m\n\u001b[0;32m    431\u001b[0m \u001b[43m    \u001b[49m\u001b[38;5;124;43m\"\u001b[39;49m\u001b[38;5;124;43mastype\u001b[39;49m\u001b[38;5;124;43m\"\u001b[39;49m\u001b[43m,\u001b[49m\n\u001b[0;32m    432\u001b[0m \u001b[43m    \u001b[49m\u001b[43mdtype\u001b[49m\u001b[38;5;241;43m=\u001b[39;49m\u001b[43mdtype\u001b[49m\u001b[43m,\u001b[49m\n\u001b[0;32m    433\u001b[0m \u001b[43m    \u001b[49m\u001b[43mcopy\u001b[49m\u001b[38;5;241;43m=\u001b[39;49m\u001b[43mcopy\u001b[49m\u001b[43m,\u001b[49m\n\u001b[0;32m    434\u001b[0m \u001b[43m    \u001b[49m\u001b[43merrors\u001b[49m\u001b[38;5;241;43m=\u001b[39;49m\u001b[43merrors\u001b[49m\u001b[43m,\u001b[49m\n\u001b[0;32m    435\u001b[0m \u001b[43m    \u001b[49m\u001b[43musing_cow\u001b[49m\u001b[38;5;241;43m=\u001b[39;49m\u001b[43musing_copy_on_write\u001b[49m\u001b[43m(\u001b[49m\u001b[43m)\u001b[49m\u001b[43m,\u001b[49m\n\u001b[0;32m    436\u001b[0m \u001b[43m\u001b[49m\u001b[43m)\u001b[49m\n",
      "File \u001b[1;32m~\\AppData\\Local\\Packages\\PythonSoftwareFoundation.Python.3.10_qbz5n2kfra8p0\\LocalCache\\local-packages\\Python310\\site-packages\\pandas\\core\\internals\\managers.py:363\u001b[0m, in \u001b[0;36mBaseBlockManager.apply\u001b[1;34m(self, f, align_keys, **kwargs)\u001b[0m\n\u001b[0;32m    361\u001b[0m         applied \u001b[38;5;241m=\u001b[39m b\u001b[38;5;241m.\u001b[39mapply(f, \u001b[38;5;241m*\u001b[39m\u001b[38;5;241m*\u001b[39mkwargs)\n\u001b[0;32m    362\u001b[0m     \u001b[38;5;28;01melse\u001b[39;00m:\n\u001b[1;32m--> 363\u001b[0m         applied \u001b[38;5;241m=\u001b[39m \u001b[38;5;28mgetattr\u001b[39m(b, f)(\u001b[38;5;241m*\u001b[39m\u001b[38;5;241m*\u001b[39mkwargs)\n\u001b[0;32m    364\u001b[0m     result_blocks \u001b[38;5;241m=\u001b[39m extend_blocks(applied, result_blocks)\n\u001b[0;32m    366\u001b[0m out \u001b[38;5;241m=\u001b[39m \u001b[38;5;28mtype\u001b[39m(\u001b[38;5;28mself\u001b[39m)\u001b[38;5;241m.\u001b[39mfrom_blocks(result_blocks, \u001b[38;5;28mself\u001b[39m\u001b[38;5;241m.\u001b[39maxes)\n",
      "File \u001b[1;32m~\\AppData\\Local\\Packages\\PythonSoftwareFoundation.Python.3.10_qbz5n2kfra8p0\\LocalCache\\local-packages\\Python310\\site-packages\\pandas\\core\\internals\\blocks.py:758\u001b[0m, in \u001b[0;36mBlock.astype\u001b[1;34m(self, dtype, copy, errors, using_cow, squeeze)\u001b[0m\n\u001b[0;32m    755\u001b[0m         \u001b[38;5;28;01mraise\u001b[39;00m \u001b[38;5;167;01mValueError\u001b[39;00m(\u001b[38;5;124m\"\u001b[39m\u001b[38;5;124mCan not squeeze with more than one column.\u001b[39m\u001b[38;5;124m\"\u001b[39m)\n\u001b[0;32m    756\u001b[0m     values \u001b[38;5;241m=\u001b[39m values[\u001b[38;5;241m0\u001b[39m, :]  \u001b[38;5;66;03m# type: ignore[call-overload]\u001b[39;00m\n\u001b[1;32m--> 758\u001b[0m new_values \u001b[38;5;241m=\u001b[39m \u001b[43mastype_array_safe\u001b[49m\u001b[43m(\u001b[49m\u001b[43mvalues\u001b[49m\u001b[43m,\u001b[49m\u001b[43m \u001b[49m\u001b[43mdtype\u001b[49m\u001b[43m,\u001b[49m\u001b[43m \u001b[49m\u001b[43mcopy\u001b[49m\u001b[38;5;241;43m=\u001b[39;49m\u001b[43mcopy\u001b[49m\u001b[43m,\u001b[49m\u001b[43m \u001b[49m\u001b[43merrors\u001b[49m\u001b[38;5;241;43m=\u001b[39;49m\u001b[43merrors\u001b[49m\u001b[43m)\u001b[49m\n\u001b[0;32m    760\u001b[0m new_values \u001b[38;5;241m=\u001b[39m maybe_coerce_values(new_values)\n\u001b[0;32m    762\u001b[0m refs \u001b[38;5;241m=\u001b[39m \u001b[38;5;28;01mNone\u001b[39;00m\n",
      "File \u001b[1;32m~\\AppData\\Local\\Packages\\PythonSoftwareFoundation.Python.3.10_qbz5n2kfra8p0\\LocalCache\\local-packages\\Python310\\site-packages\\pandas\\core\\dtypes\\astype.py:237\u001b[0m, in \u001b[0;36mastype_array_safe\u001b[1;34m(values, dtype, copy, errors)\u001b[0m\n\u001b[0;32m    234\u001b[0m     dtype \u001b[38;5;241m=\u001b[39m dtype\u001b[38;5;241m.\u001b[39mnumpy_dtype\n\u001b[0;32m    236\u001b[0m \u001b[38;5;28;01mtry\u001b[39;00m:\n\u001b[1;32m--> 237\u001b[0m     new_values \u001b[38;5;241m=\u001b[39m \u001b[43mastype_array\u001b[49m\u001b[43m(\u001b[49m\u001b[43mvalues\u001b[49m\u001b[43m,\u001b[49m\u001b[43m \u001b[49m\u001b[43mdtype\u001b[49m\u001b[43m,\u001b[49m\u001b[43m \u001b[49m\u001b[43mcopy\u001b[49m\u001b[38;5;241;43m=\u001b[39;49m\u001b[43mcopy\u001b[49m\u001b[43m)\u001b[49m\n\u001b[0;32m    238\u001b[0m \u001b[38;5;28;01mexcept\u001b[39;00m (\u001b[38;5;167;01mValueError\u001b[39;00m, \u001b[38;5;167;01mTypeError\u001b[39;00m):\n\u001b[0;32m    239\u001b[0m     \u001b[38;5;66;03m# e.g. _astype_nansafe can fail on object-dtype of strings\u001b[39;00m\n\u001b[0;32m    240\u001b[0m     \u001b[38;5;66;03m#  trying to convert to float\u001b[39;00m\n\u001b[0;32m    241\u001b[0m     \u001b[38;5;28;01mif\u001b[39;00m errors \u001b[38;5;241m==\u001b[39m \u001b[38;5;124m\"\u001b[39m\u001b[38;5;124mignore\u001b[39m\u001b[38;5;124m\"\u001b[39m:\n",
      "File \u001b[1;32m~\\AppData\\Local\\Packages\\PythonSoftwareFoundation.Python.3.10_qbz5n2kfra8p0\\LocalCache\\local-packages\\Python310\\site-packages\\pandas\\core\\dtypes\\astype.py:182\u001b[0m, in \u001b[0;36mastype_array\u001b[1;34m(values, dtype, copy)\u001b[0m\n\u001b[0;32m    179\u001b[0m     values \u001b[38;5;241m=\u001b[39m values\u001b[38;5;241m.\u001b[39mastype(dtype, copy\u001b[38;5;241m=\u001b[39mcopy)\n\u001b[0;32m    181\u001b[0m \u001b[38;5;28;01melse\u001b[39;00m:\n\u001b[1;32m--> 182\u001b[0m     values \u001b[38;5;241m=\u001b[39m \u001b[43m_astype_nansafe\u001b[49m\u001b[43m(\u001b[49m\u001b[43mvalues\u001b[49m\u001b[43m,\u001b[49m\u001b[43m \u001b[49m\u001b[43mdtype\u001b[49m\u001b[43m,\u001b[49m\u001b[43m \u001b[49m\u001b[43mcopy\u001b[49m\u001b[38;5;241;43m=\u001b[39;49m\u001b[43mcopy\u001b[49m\u001b[43m)\u001b[49m\n\u001b[0;32m    184\u001b[0m \u001b[38;5;66;03m# in pandas we don't store numpy str dtypes, so convert to object\u001b[39;00m\n\u001b[0;32m    185\u001b[0m \u001b[38;5;28;01mif\u001b[39;00m \u001b[38;5;28misinstance\u001b[39m(dtype, np\u001b[38;5;241m.\u001b[39mdtype) \u001b[38;5;129;01mand\u001b[39;00m \u001b[38;5;28missubclass\u001b[39m(values\u001b[38;5;241m.\u001b[39mdtype\u001b[38;5;241m.\u001b[39mtype, \u001b[38;5;28mstr\u001b[39m):\n",
      "File \u001b[1;32m~\\AppData\\Local\\Packages\\PythonSoftwareFoundation.Python.3.10_qbz5n2kfra8p0\\LocalCache\\local-packages\\Python310\\site-packages\\pandas\\core\\dtypes\\astype.py:133\u001b[0m, in \u001b[0;36m_astype_nansafe\u001b[1;34m(arr, dtype, copy, skipna)\u001b[0m\n\u001b[0;32m    129\u001b[0m     \u001b[38;5;28;01mraise\u001b[39;00m \u001b[38;5;167;01mValueError\u001b[39;00m(msg)\n\u001b[0;32m    131\u001b[0m \u001b[38;5;28;01mif\u001b[39;00m copy \u001b[38;5;129;01mor\u001b[39;00m arr\u001b[38;5;241m.\u001b[39mdtype \u001b[38;5;241m==\u001b[39m \u001b[38;5;28mobject\u001b[39m \u001b[38;5;129;01mor\u001b[39;00m dtype \u001b[38;5;241m==\u001b[39m \u001b[38;5;28mobject\u001b[39m:\n\u001b[0;32m    132\u001b[0m     \u001b[38;5;66;03m# Explicit copy, or required since NumPy can't view from / to object.\u001b[39;00m\n\u001b[1;32m--> 133\u001b[0m     \u001b[38;5;28;01mreturn\u001b[39;00m \u001b[43marr\u001b[49m\u001b[38;5;241;43m.\u001b[39;49m\u001b[43mastype\u001b[49m\u001b[43m(\u001b[49m\u001b[43mdtype\u001b[49m\u001b[43m,\u001b[49m\u001b[43m \u001b[49m\u001b[43mcopy\u001b[49m\u001b[38;5;241;43m=\u001b[39;49m\u001b[38;5;28;43;01mTrue\u001b[39;49;00m\u001b[43m)\u001b[49m\n\u001b[0;32m    135\u001b[0m \u001b[38;5;28;01mreturn\u001b[39;00m arr\u001b[38;5;241m.\u001b[39mastype(dtype, copy\u001b[38;5;241m=\u001b[39mcopy)\n",
      "\u001b[1;31mValueError\u001b[0m: invalid literal for int() with base 10: '2019 *'"
     ]
    }
   ],
   "source": [
    "Accesos_Tecnología_provincia_porc['Año'] = Accesos_Tecnología_provincia_porc['Año'].astype(int)"
   ]
  },
  {
   "cell_type": "code",
   "execution_count": 78,
   "metadata": {},
   "outputs": [
    {
     "name": "stdout",
     "output_type": "stream",
     "text": [
      "Año                object\n",
      "Trimestre          object\n",
      "Provincia          object\n",
      "ADSL_%            float64\n",
      "Cablemodem_%      float64\n",
      "Fibra óptica_%    float64\n",
      "Wireless_%        float64\n",
      "dtype: object\n"
     ]
    }
   ],
   "source": [
    "# Verificar el tipo de valor de cada columna en el DataFrame\n",
    "print(Accesos_Tecnología_provincia_porc.dtypes)"
   ]
  },
  {
   "cell_type": "code",
   "execution_count": 79,
   "metadata": {},
   "outputs": [
    {
     "name": "stdout",
     "output_type": "stream",
     "text": [
      "     GID_1 GID_0    COUNTRY                  NAME_1  \\\n",
      "0  ARG.1_1   ARG  Argentina            Buenos Aires   \n",
      "1  ARG.2_1   ARG  Argentina               Catamarca   \n",
      "2  ARG.3_1   ARG  Argentina                   Chaco   \n",
      "3  ARG.4_1   ARG  Argentina                  Chubut   \n",
      "4  ARG.5_1   ARG  Argentina  Ciudad de Buenos Aires   \n",
      "\n",
      "                          VARNAME_1 NL_NAME_1            TYPE_1  \\\n",
      "0               Baires|Buenos Ayres        NA         Provincia   \n",
      "1                                NA        NA         Provincia   \n",
      "2    El Chaco|Presidente Juan Peron        NA         Provincia   \n",
      "3                                NA        NA         Provincia   \n",
      "4  BUENOS AIRES D.F.|Capital Federa        NA  Distrito Federal   \n",
      "\n",
      "          ENGTYPE_1 CC_1 HASC_1 ISO_1  \\\n",
      "0          Province   NA  AR.BA  AR-B   \n",
      "1          Province   NA  AR.CT  AR-K   \n",
      "2          Province   NA  AR.CC  AR-H   \n",
      "3          Province   NA  AR.CH  AR-U   \n",
      "4  Federal District   NA  AR.DF    NA   \n",
      "\n",
      "                                            geometry  \n",
      "0  MULTIPOLYGON (((-62.10181 -40.55375, -62.10208...  \n",
      "1  POLYGON ((-65.14583 -28.6656, -65.1441 -28.666...  \n",
      "2  POLYGON ((-60.11628 -25.6566, -60.11488 -25.66...  \n",
      "3  MULTIPOLYGON (((-66.99986 -45.99986, -66.99986...  \n",
      "4  POLYGON ((-58.34292 -34.63319, -58.34297 -34.6...  \n"
     ]
    }
   ],
   "source": [
    "# Ruta a la carpeta donde están los archivos del shapefile\n",
    "shapefile_folder = 'C:/Users/Usuario/Desktop/proyecto 1/'\n",
    "\n",
    "# Nombre base del shapefile para provincias\n",
    "shapefile_base_name = 'gadm41_ARG_1'\n",
    "\n",
    "# Cargar el shapefile (necesita los archivos .shp, .shx, .dbf)\n",
    "shapefile_path = f'{shapefile_folder}/{shapefile_base_name}.shp'\n",
    "gdf = gpd.read_file(shapefile_path)\n",
    "\n",
    "# Mostrar las primeras filas del GeoDataFrame\n",
    "print(gdf.head())"
   ]
  },
  {
   "cell_type": "code",
   "execution_count": 80,
   "metadata": {},
   "outputs": [
    {
     "name": "stdout",
     "output_type": "stream",
     "text": [
      "Index(['GID_1', 'GID_0', 'COUNTRY', 'NAME_1', 'VARNAME_1', 'NL_NAME_1',\n",
      "       'TYPE_1', 'ENGTYPE_1', 'CC_1', 'HASC_1', 'ISO_1', 'geometry'],\n",
      "      dtype='object')\n",
      "0    MULTIPOLYGON (((-62.10181 -40.55375, -62.10208...\n",
      "1    POLYGON ((-65.14583 -28.6656, -65.1441 -28.666...\n",
      "2    POLYGON ((-60.11628 -25.6566, -60.11488 -25.66...\n",
      "3    MULTIPOLYGON (((-66.99986 -45.99986, -66.99986...\n",
      "4    POLYGON ((-58.34292 -34.63319, -58.34297 -34.6...\n",
      "Name: geometry, dtype: geometry\n"
     ]
    }
   ],
   "source": [
    "print(gdf.columns)  # Verifica las columnas disponibles\n",
    "print(gdf['geometry'].head())  # Verifica los datos en la columna geometry\n"
   ]
  },
  {
   "cell_type": "code",
   "execution_count": 81,
   "metadata": {},
   "outputs": [
    {
     "name": "stdout",
     "output_type": "stream",
     "text": [
      "                    NAME_2  Porcentaje\n",
      "0             Buenos Aires          50\n",
      "1                Catamarca          20\n",
      "2                    Chaco          30\n",
      "3                   Chubut          25\n",
      "4   Ciudad de Buenos Aires          40\n",
      "5                  Córdoba          45\n",
      "6               Corrientes          35\n",
      "7               Entre Ríos          50\n",
      "8                  Formosa          30\n",
      "9                    Jujuy          20\n",
      "10                La Pampa          25\n",
      "11                La Rioja          35\n",
      "12                 Mendoza          40\n",
      "13                Misiones          55\n",
      "14                 Neuquén          50\n",
      "15               Río Negro          60\n",
      "16                   Salta          30\n",
      "17                San Juan          35\n",
      "18                San Luis          40\n",
      "19              Santa Cruz          45\n",
      "20                Santa Fe          50\n",
      "21     Santiago del Estero          20\n",
      "22        Tierra del Fuego          40\n",
      "23                 Tucumán          43\n"
     ]
    }
   ],
   "source": [
    "\n",
    "\n",
    "# Datos corregidos con la misma longitud\n",
    "data = {\n",
    "    'NAME_2': [\n",
    "        'Buenos Aires', 'Catamarca', 'Chaco', 'Chubut', 'Ciudad de Buenos Aires',\n",
    "        'Córdoba', 'Corrientes', 'Entre Ríos', 'Formosa', 'Jujuy', 'La Pampa',\n",
    "        'La Rioja', 'Mendoza', 'Misiones', 'Neuquén', 'Río Negro', 'Salta',\n",
    "        'San Juan', 'San Luis', 'Santa Cruz', 'Santa Fe', 'Santiago del Estero',\n",
    "        'Tierra del Fuego', 'Tucumán'\n",
    "    ],\n",
    "    'Porcentaje': [\n",
    "        50, 20, 30, 25, 40, 45, 35, 50, 30, 20, 25, 35, 40, 55, 50, 60, 30,\n",
    "        35, 40, 45, 50, 20, 40, 43\n",
    "    ]\n",
    "}\n",
    "\n",
    "# Crear el DataFrame\n",
    "muestra = pd.DataFrame(data)\n",
    "\n",
    "# Mostrar el DataFrame para verificar\n",
    "print(muestra)\n"
   ]
  },
  {
   "cell_type": "code",
   "execution_count": 83,
   "metadata": {},
   "outputs": [
    {
     "name": "stdout",
     "output_type": "stream",
     "text": [
      "     GID_1 GID_0    COUNTRY                  NAME_1  \\\n",
      "0  ARG.1_1   ARG  Argentina            Buenos Aires   \n",
      "1  ARG.2_1   ARG  Argentina               Catamarca   \n",
      "2  ARG.3_1   ARG  Argentina                   Chaco   \n",
      "3  ARG.4_1   ARG  Argentina                  Chubut   \n",
      "4  ARG.5_1   ARG  Argentina  Ciudad de Buenos Aires   \n",
      "\n",
      "                          VARNAME_1 NL_NAME_1            TYPE_1  \\\n",
      "0               Baires|Buenos Ayres        NA         Provincia   \n",
      "1                                NA        NA         Provincia   \n",
      "2    El Chaco|Presidente Juan Peron        NA         Provincia   \n",
      "3                                NA        NA         Provincia   \n",
      "4  BUENOS AIRES D.F.|Capital Federa        NA  Distrito Federal   \n",
      "\n",
      "          ENGTYPE_1 CC_1 HASC_1 ISO_1  \\\n",
      "0          Province   NA  AR.BA  AR-B   \n",
      "1          Province   NA  AR.CT  AR-K   \n",
      "2          Province   NA  AR.CC  AR-H   \n",
      "3          Province   NA  AR.CH  AR-U   \n",
      "4  Federal District   NA  AR.DF    NA   \n",
      "\n",
      "                                            geometry  \n",
      "0  MULTIPOLYGON (((-62.10181 -40.55375, -62.10208...  \n",
      "1  POLYGON ((-65.14583 -28.6656, -65.1441 -28.666...  \n",
      "2  POLYGON ((-60.11628 -25.6566, -60.11488 -25.66...  \n",
      "3  MULTIPOLYGON (((-66.99986 -45.99986, -66.99986...  \n",
      "4  POLYGON ((-58.34292 -34.63319, -58.34297 -34.6...  \n",
      "     GID_1 GID_0    COUNTRY                  NAME_1  \\\n",
      "0  ARG.1_1   ARG  Argentina            Buenos Aires   \n",
      "1  ARG.2_1   ARG  Argentina               Catamarca   \n",
      "2  ARG.3_1   ARG  Argentina                   Chaco   \n",
      "3  ARG.4_1   ARG  Argentina                  Chubut   \n",
      "4  ARG.5_1   ARG  Argentina  Ciudad de Buenos Aires   \n",
      "\n",
      "                          VARNAME_1 NL_NAME_1            TYPE_1  \\\n",
      "0               Baires|Buenos Ayres        NA         Provincia   \n",
      "1                                NA        NA         Provincia   \n",
      "2    El Chaco|Presidente Juan Peron        NA         Provincia   \n",
      "3                                NA        NA         Provincia   \n",
      "4  BUENOS AIRES D.F.|Capital Federa        NA  Distrito Federal   \n",
      "\n",
      "          ENGTYPE_1 CC_1 HASC_1 ISO_1  \\\n",
      "0          Province   NA  AR.BA  AR-B   \n",
      "1          Province   NA  AR.CT  AR-K   \n",
      "2          Province   NA  AR.CC  AR-H   \n",
      "3          Province   NA  AR.CH  AR-U   \n",
      "4  Federal District   NA  AR.DF    NA   \n",
      "\n",
      "                                            geometry  Porcentaje  \n",
      "0  MULTIPOLYGON (((-62.10181 -40.55375, -62.10208...          80  \n",
      "1  POLYGON ((-65.14583 -28.6656, -65.1441 -28.666...          70  \n",
      "2  POLYGON ((-60.11628 -25.6566, -60.11488 -25.66...          30  \n",
      "3  MULTIPOLYGON (((-66.99986 -45.99986, -66.99986...          25  \n",
      "4  POLYGON ((-58.34292 -34.63319, -58.34297 -34.6...          40  \n"
     ]
    },
    {
     "data": {
      "image/png": "[encoded data removed]",
      "text/plain": [
       "<Figure size 1400x1200 with 2 Axes>"
      ]
     },
     "metadata": {},
     "output_type": "display_data"
    }
   ],
   "source": [
    "# Ruta a la carpeta donde están los archivos del shapefile\n",
    "shapefile_folder = 'C:/Users/Usuario/Desktop/proyecto 1/'\n",
    "\n",
    "# Nombre base del shapefile para provincias\n",
    "shapefile_base_name = 'gadm41_ARG_1'\n",
    "\n",
    "# Cargar el shapefile (necesita los archivos .shp, .shx, .dbf)\n",
    "shapefile_path = f'{shapefile_folder}/{shapefile_base_name}.shp'\n",
    "gdf = gpd.read_file(shapefile_path)\n",
    "\n",
    "# Mostrar las primeras filas del GeoDataFrame\n",
    "print(gdf.head())\n",
    "\n",
    "# Crear DataFrame de muestra\n",
    "data = {\n",
    "    'NAME_2': [\n",
    "        'Buenos Aires', 'Catamarca', 'Chaco', 'Chubut', 'Ciudad de Buenos Aires',\n",
    "        'Córdoba', 'Corrientes', 'Entre Ríos', 'Formosa', 'Jujuy', 'La Pampa',\n",
    "        'La Rioja', 'Mendoza', 'Misiones', 'Neuquén', 'Río Negro', 'Salta',\n",
    "        'San Juan', 'San Luis', 'Santa Cruz', 'Santa Fe', 'Santiago del Estero',\n",
    "        'Tierra del Fuego', 'Tucumán'\n",
    "    ],\n",
    "    'Porcentaje': [\n",
    "        81, 69, 47, 85, 81, 91, 52, 69, 40, 58, 100, 80, 53, 57, 80, 71, 56,\n",
    "        52, 100, 68, 80, 49, 100, 60\n",
    "    ]\n",
    "}\n",
    "\n",
    "\n",
    "\n",
    "\n",
    "muestra = pd.DataFrame(data)\n",
    "\n",
    "# Renombrar columna en muestra para que coincida con la del GeoDataFrame\n",
    "muestra = muestra.rename(columns={'NAME_2': 'NAME_1'})\n",
    "\n",
    "# Unir los datos con el GeoDataFrame\n",
    "gdf = gdf.merge(muestra, on='NAME_1', how='left')\n",
    "\n",
    "# Verificar la unión\n",
    "print(gdf.head())\n",
    "\n",
    "\n",
    "# Crear el mapa de calor con colores invertidos\n",
    "fig, ax = plt.subplots(1, 1, figsize=(14, 12))\n",
    "gdf.boundary.plot(ax=ax)  # Dibuja los límites de las provincias\n",
    "gdf.plot(column='Porcentaje', ax=ax, legend=True, cmap='OrRd_r', linewidth=0.8, edgecolor='0.8')\n",
    "ax.set_title('Mapa de Calor de Porcentaje por Provincia (Colores Invertidos)')\n",
    "plt.show()\n",
    "\n",
    "\n"
   ]
  }
 ],
 "metadata": {
  "kernelspec": {
   "display_name": "Python 3",
   "language": "python",
   "name": "python3"
  },
  "language_info": {
   "codemirror_mode": {
    "name": "ipython",
    "version": 3
   },
   "file_extension": ".py",
   "mimetype": "text/x-python",
   "name": "python",
   "nbconvert_exporter": "python",
   "pygments_lexer": "ipython3",
   "version": "3.10.11"
  }
 },
 "nbformat": 4,
 "nbformat_minor": 2
}
